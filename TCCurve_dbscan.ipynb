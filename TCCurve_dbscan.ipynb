{
 "cells": [
  {
   "cell_type": "markdown",
   "metadata": {},
   "source": [
    "#### import modules and packages"
   ]
  },
  {
   "cell_type": "code",
   "execution_count": null,
   "metadata": {},
   "outputs": [],
   "source": [
    "import warnings\n",
    "warnings.filterwarnings(\"ignore\")\n",
    "\n",
    "import pandas as pd\n",
    "\n",
    "import matplotlib.pyplot as plt\n",
    "from datetime import datetime as dt\n",
    "\n",
    "from onc.onc import ONC\n",
    "\n",
    "import numpy as np\n",
    "\n",
    "from sklearn.cluster import DBSCAN\n",
    "from sklearn import metrics\n",
    "from sklearn.datasets import make_blobs\n",
    "from sklearn.preprocessing import StandardScaler\n",
    "from collections import Counter\n",
    "from pylab import rcParams\n",
    "\n",
    "rcParams['figure.figsize'] = 14,6\n",
    "\n",
    "%matplotlib inline"
   ]
  },
  {
   "cell_type": "markdown",
   "metadata": {},
   "source": [
    "#### Load data"
   ]
  },
  {
   "cell_type": "code",
   "execution_count": null,
   "metadata": {},
   "outputs": [],
   "source": [
    "onc = ONC('533c0804-3482-4efb-813b-681d357440d6')\n",
    "\n",
    "\n",
    "#Baynes location codes\n",
    "#BSM.J1 \t5mbss \n",
    "#BSM.J2 \t20mbss \n",
    "#BSM.J3 \t40mbss \n",
    "\n",
    "filters = {\n",
    "    'locationCode': 'BSM.J1',\n",
    "    'deviceCategoryCode': 'CTD',\n",
    "    'qualityControl': 'raw',\n",
    "    'sensorCategoryCodes': 'conductivity,temperature',\n",
    "    'dateFrom':'2020-01-19T00:00:00.000Z',\n",
    "    'dateTo':'2020-01-19T23:59:59.999Z'\n",
    "}\n",
    "result = onc.getDirectByLocation(filters)\n",
    "#onc.print(result)\n",
    "\n",
    "d = {'Conductivity (S/m)':[],'Temperature (C)':[]}\n",
    "d['Conductivity (S/m)'] = result['sensorData'][0]['data']['values']\n",
    "d['Temperature (C)'] = result['sensorData'][1]['data']['values']\n",
    "df = pd.DataFrame.from_dict(d)\n",
    "df"
   ]
  },
  {
   "cell_type": "raw",
   "metadata": {},
   "source": [
    "df = pd.read_csv('BaynesSoundMooring_40mbss_ConductivityTemperatureDepth_20200305T000000Z_20200313T210509Z-NaN.csv',skipinitialspace=True)\n",
    "df.rename(columns={df.columns[0]: 'UTC time', df.columns[1]: 'Conductivity (S/m)',df.columns[15]: 'Temperature (C)'},inplace=True)\n"
   ]
  },
  {
   "cell_type": "code",
   "execution_count": null,
   "metadata": {},
   "outputs": [],
   "source": [
    "fig = df.plot.scatter(x='Conductivity (S/m)',y='Temperature (C)')"
   ]
  },
  {
   "cell_type": "code",
   "execution_count": null,
   "metadata": {},
   "outputs": [],
   "source": [
    "df.info()"
   ]
  },
  {
   "cell_type": "markdown",
   "metadata": {},
   "source": [
    "#### Preparing DBSCAN model ( train model and identify outliers)"
   ]
  },
  {
   "cell_type": "code",
   "execution_count": null,
   "metadata": {
    "scrolled": true
   },
   "outputs": [],
   "source": [
    "# prepare data for model\n",
    "X = df[['Conductivity (S/m)','Temperature (C)']]"
   ]
  },
  {
   "cell_type": "code",
   "execution_count": null,
   "metadata": {},
   "outputs": [],
   "source": [
    "X = X.values.astype('float32',copy =False)\n",
    "X"
   ]
  },
  {
   "cell_type": "raw",
   "metadata": {},
   "source": [
    "# Normalize data\n",
    "X_scalar = StandardScaler()\n",
    "X_sc_fitted = X_scalar.fit_transform(X) \n",
    "X_sc_fitted"
   ]
  },
  {
   "cell_type": "code",
   "execution_count": null,
   "metadata": {},
   "outputs": [],
   "source": [
    "ms = 10\n",
    "ep1 = 0.01\n",
    "db = DBSCAN(eps=ep1, min_samples=ms).fit(X)"
   ]
  },
  {
   "cell_type": "raw",
   "metadata": {},
   "source": [
    "core_samples_mask = np.zeros_like(db.labels_, dtype=bool)\n",
    "core_samples_mask[db.core_sample_indices_] = True\n",
    "labels = db.labels_"
   ]
  },
  {
   "cell_type": "raw",
   "metadata": {},
   "source": [
    "len(set(labels))"
   ]
  },
  {
   "cell_type": "raw",
   "metadata": {},
   "source": [
    "def show_clusters(X, labels):\n",
    "    df = pd.DataFrame(dict(x = X[:,0],y =X[:,1], label = labels))\n",
    "    color = {-1: 'black', 0:'blue',1:'red'}\n",
    "    fig, ax = plt.subplots()\n",
    "    grouped = df.groupby('label')\n",
    "    for key, group in grouped:\n",
    "        group.plot(ax =ax, kind ='scatter', x = 'x', y ='y', label = key, color = color[key])\n",
    "    plt.ylabel(\"Conductivity (S/m)\")\n",
    "    plt.xlabel(\"Temperature (C)\")"
   ]
  },
  {
   "cell_type": "raw",
   "metadata": {},
   "source": [
    "show_clusters(X, labels)"
   ]
  },
  {
   "cell_type": "markdown",
   "metadata": {},
   "source": [
    "#### Visualize results"
   ]
  },
  {
   "cell_type": "code",
   "execution_count": null,
   "metadata": {},
   "outputs": [],
   "source": [
    "labels = db.labels_"
   ]
  },
  {
   "cell_type": "code",
   "execution_count": null,
   "metadata": {},
   "outputs": [],
   "source": [
    "len(set(labels))"
   ]
  },
  {
   "cell_type": "code",
   "execution_count": null,
   "metadata": {},
   "outputs": [],
   "source": [
    "# Separate outliers from clustered data\n",
    "outliers_X = X[labels == -1]\n",
    "clusters_X = X[labels != -1]"
   ]
  },
  {
   "cell_type": "code",
   "execution_count": null,
   "metadata": {},
   "outputs": [],
   "source": [
    "colors_clusters = labels[labels != -1]\n",
    "colors_outliers = 'black'"
   ]
  },
  {
   "cell_type": "code",
   "execution_count": null,
   "metadata": {},
   "outputs": [],
   "source": [
    "# get info about the clusters\n",
    "clusters = Counter(labels)\n",
    "print(clusters)\n",
    "print('Number of cluster = {}'.format(len(clusters)-1))"
   ]
  },
  {
   "cell_type": "code",
   "execution_count": null,
   "metadata": {},
   "outputs": [],
   "source": [
    "def show_clusters(X, labels):\n",
    "    df = pd.DataFrame(dict(x = X[:,0],y =X[:,1], label = labels))\n",
    "    color = {-1: 'black', 0:'blue',1:'red'}\n",
    "    fig, ax = plt.subplots()\n",
    "    grouped = df.groupby('label')\n",
    "    for key, group in grouped:\n",
    "        group.plot(ax =ax, kind ='scatter', x = 'x', y ='y', label = key, color = color[key])\n",
    "    plt.ylabel(\"Conductivity (S/m)\")\n",
    "    plt.xlabel(\"Temperature (C)\")"
   ]
  },
  {
   "cell_type": "code",
   "execution_count": null,
   "metadata": {},
   "outputs": [],
   "source": [
    "show_clusters(X, labels)"
   ]
  },
  {
   "cell_type": "code",
   "execution_count": null,
   "metadata": {},
   "outputs": [],
   "source": [
    "# plot clusters and outliers\n",
    "fig = plt.figure()\n",
    "ax = fig.add_axes([.1, .1, 1, 1])\n",
    "\n",
    "ax.scatter(outliers_X[:,0],outliers_X[:,1], c = colors_outliers,s =50)\n",
    "ax.scatter(clusters_X[:,0],clusters_X[:,1], c = colors_clusters,s =50)\n",
    "plt.ylabel(\"Conductivity (S/m)\")\n",
    "plt.xlabel(\"Temperature (C)\")\n",
    "plt.tight_layout()"
   ]
  },
  {
   "cell_type": "code",
   "execution_count": null,
   "metadata": {},
   "outputs": [],
   "source": [
    "from sklearn.metrics import silhouette_score\n",
    "silhouette_score(X,labels)"
   ]
  },
  {
   "cell_type": "code",
   "execution_count": null,
   "metadata": {},
   "outputs": [],
   "source": [
    "from sklearn.neighbors import NearestNeighbors\n",
    "neigh = NearestNeighbors(n_neighbors = 2)\n",
    "nbrs = neigh.fit(X)"
   ]
  },
  {
   "cell_type": "code",
   "execution_count": null,
   "metadata": {},
   "outputs": [],
   "source": [
    "distances, indices = nbrs.kneighbors(X)"
   ]
  },
  {
   "cell_type": "code",
   "execution_count": null,
   "metadata": {},
   "outputs": [],
   "source": [
    "distances = np.sort(distances, axis = 0)\n",
    "distances = distances[:,1]\n",
    "plt.plot(distances)"
   ]
  },
  {
   "cell_type": "code",
   "execution_count": null,
   "metadata": {},
   "outputs": [],
   "source": [
    "db1 = DBSCAN(eps=ep1, min_samples=0.01).fit(X)"
   ]
  },
  {
   "cell_type": "code",
   "execution_count": null,
   "metadata": {},
   "outputs": [],
   "source": [
    "labels1 = db1.labels_"
   ]
  },
  {
   "cell_type": "code",
   "execution_count": null,
   "metadata": {},
   "outputs": [],
   "source": [
    "silhouette_score(X,labels1)"
   ]
  },
  {
   "cell_type": "code",
   "execution_count": null,
   "metadata": {},
   "outputs": [],
   "source": [
    "db2 = DBSCAN(eps=ep1, min_samples=0.01, algorithm ='ball_tree').fit(X)"
   ]
  },
  {
   "cell_type": "code",
   "execution_count": null,
   "metadata": {},
   "outputs": [],
   "source": [
    "labels2 = db2.labels_"
   ]
  },
  {
   "cell_type": "code",
   "execution_count": null,
   "metadata": {},
   "outputs": [],
   "source": [
    "silhouette_score(X,labels2)"
   ]
  },
  {
   "cell_type": "code",
   "execution_count": null,
   "metadata": {},
   "outputs": [],
   "source": [
    "db3 = DBSCAN(eps=ep1, min_samples=0.01, algorithm ='kd_tree').fit(X)"
   ]
  },
  {
   "cell_type": "code",
   "execution_count": null,
   "metadata": {},
   "outputs": [],
   "source": [
    "labels3 = db3.labels_"
   ]
  },
  {
   "cell_type": "code",
   "execution_count": null,
   "metadata": {},
   "outputs": [],
   "source": [
    "silhouette_score(X,labels3)"
   ]
  },
  {
   "cell_type": "code",
   "execution_count": null,
   "metadata": {},
   "outputs": [],
   "source": [
    "db4 = DBSCAN(eps=ep1, min_samples=0.01, algorithm ='brute').fit(X)"
   ]
  },
  {
   "cell_type": "code",
   "execution_count": null,
   "metadata": {},
   "outputs": [],
   "source": [
    "labels4 = db4.labels_"
   ]
  },
  {
   "cell_type": "code",
   "execution_count": null,
   "metadata": {},
   "outputs": [],
   "source": [
    "silhouette_score(X,labels4)"
   ]
  },
  {
   "cell_type": "code",
   "execution_count": null,
   "metadata": {},
   "outputs": [],
   "source": [
    "db5 = DBSCAN(eps=ep1, min_samples=10,algorithm='ball_tree', metric='haversine').fit(X)\n",
    "labels5 = db5.labels_\n",
    "silhouette_score(X,labels5)"
   ]
  },
  {
   "cell_type": "code",
   "execution_count": null,
   "metadata": {},
   "outputs": [],
   "source": [
    "def pnorm(x,y):\n",
    "  return np.sum(np.abs(x-y)**1)**(1/1)\n",
    "    # np.sum(np.abs(x-y)**p)**(1/p)\n",
    "\n",
    "db6 = DBSCAN(eps=ep1, min_samples=10,algorithm='ball_tree', metric=pnorm).fit(X)\n",
    "labels6 = db5.labels_\n",
    "silhouette_score(X,labels6)"
   ]
  },
  {
   "cell_type": "code",
   "execution_count": null,
   "metadata": {},
   "outputs": [],
   "source": []
  }
 ],
 "metadata": {
  "kernelspec": {
   "display_name": "Python 3 (ipykernel)",
   "language": "python",
   "name": "python3"
  },
  "language_info": {
   "codemirror_mode": {
    "name": "ipython",
    "version": 3
   },
   "file_extension": ".py",
   "mimetype": "text/x-python",
   "name": "python",
   "nbconvert_exporter": "python",
   "pygments_lexer": "ipython3",
   "version": "3.7.7"
  }
 },
 "nbformat": 4,
 "nbformat_minor": 1
}
