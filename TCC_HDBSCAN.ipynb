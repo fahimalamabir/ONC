{
 "cells": [
  {
   "cell_type": "code",
   "execution_count": 1,
   "metadata": {},
   "outputs": [],
   "source": [
    "import warnings\n",
    "warnings.filterwarnings(\"ignore\")\n",
    "import hdbscan\n",
    "\n",
    "import numpy as np\n",
    "import pandas as pd\n",
    "\n",
    "import matplotlib.pyplot as plt\n",
    "import seaborn as sns\n",
    "plot_kwds = {'alpha' : 0.25, 's' : 10, 'linewidths':0}\n",
    "\n",
    "from onc.onc import ONC\n",
    "\n",
    "from pylab import rcParams\n",
    "\n",
    "rcParams['figure.figsize'] = 14,6\n",
    "\n",
    "%matplotlib inline"
   ]
  },
  {
   "cell_type": "raw",
   "metadata": {},
   "source": [
    "onc = ONC('533c0804-3482-4efb-813b-681d357440d6')\n",
    "\n",
    "\n",
    "#Baynes location codes\n",
    "#BSM.J1 \t5mbss \n",
    "#BSM.J2 \t20mbss \n",
    "#BSM.J3 \t40mbss \n",
    "\n",
    "filters = {\n",
    "    'locationCode': 'BSM.J1',\n",
    "    'deviceCategoryCode': 'CTD',\n",
    "    'qualityControl': 'raw',\n",
    "    'sensorCategoryCodes': 'conductivity,temperature',\n",
    "    'dateFrom':'2020-01-19T00:00:00.000Z',\n",
    "    'dateTo':'2020-01-19T23:59:59.999Z'\n",
    "}\n",
    "result = onc.getDirectByLocation(filters)\n",
    "#onc.print(result)\n",
    "\n",
    "d = {'Conductivity (S/m)':[],'Temperature (C)':[]}\n",
    "d['Conductivity (S/m)'] = result['sensorData'][0]['data']['values']\n",
    "d['Temperature (C)'] = result['sensorData'][1]['data']['values']\n",
    "df = pd.DataFrame.from_dict(d)"
   ]
  },
  {
   "cell_type": "code",
   "execution_count": null,
   "metadata": {},
   "outputs": [],
   "source": [
    "X = df[['Conductivity (S/m)','Temperature (C)']].values"
   ]
  },
  {
   "cell_type": "code",
   "execution_count": 2,
   "metadata": {},
   "outputs": [],
   "source": [
    "df = pd.read_csv('BaynesSoundMooring_40mbss_ConductivityTemperatureDepth_20200305T000000Z_20200313T210509Z-NaN.csv',skipinitialspace=True)\n",
    "df.rename(columns={df.columns[0]: 'UTC time', df.columns[1]: 'Conductivity',df.columns[15]: 'Temperature'},inplace=True)\n",
    "X = df[['Conductivity','Temperature']].values"
   ]
  },
  {
   "cell_type": "code",
   "execution_count": 3,
   "metadata": {},
   "outputs": [],
   "source": [
    "clusterer = hdbscan.HDBSCAN(min_cluster_size=15000, min_samples=20).fit(X)\n",
    "#clusterer = hdbscan.HDBSCAN(metric='manhattan').fit(X)"
   ]
  },
  {
   "cell_type": "code",
   "execution_count": 4,
   "metadata": {},
   "outputs": [],
   "source": [
    "labels = clusterer.labels_"
   ]
  },
  {
   "cell_type": "code",
   "execution_count": 5,
   "metadata": {},
   "outputs": [
    {
     "name": "stdout",
     "output_type": "stream",
     "text": [
      "Estimated number of clusters: 2\n"
     ]
    }
   ],
   "source": [
    "# Number of clusters in labels, ignoring noise if present.\n",
    "n_clusters_ = len(set(labels)) - (1 if -1 in labels else 0)\n",
    "print('Estimated number of clusters: %d' % n_clusters_)"
   ]
  },
  {
   "cell_type": "code",
   "execution_count": 6,
   "metadata": {},
   "outputs": [],
   "source": [
    "# Separate outliers from clustered data\n",
    "outliers_X = X[labels == -1]\n",
    "clusters_X = X[labels != -1]"
   ]
  },
  {
   "cell_type": "code",
   "execution_count": 7,
   "metadata": {},
   "outputs": [],
   "source": [
    "colors_clusters = labels[labels != -1]\n",
    "colors_outliers = 'black'"
   ]
  },
  {
   "cell_type": "code",
   "execution_count": 8,
   "metadata": {},
   "outputs": [
    {
     "data": {
      "image/png": "[encoded data removed]",
      "text/plain": [
       "<Figure size 432x288 with 1 Axes>"
      ]
     },
     "metadata": {
      "needs_background": "light"
     },
     "output_type": "display_data"
    }
   ],
   "source": [
    "# plot clusters and outliers\n",
    "fig = plt.figure()\n",
    "ax = fig.add_axes([.1, .1, 1, 1])\n",
    "\n",
    "ax.scatter(outliers_X[:,0],outliers_X[:,1], c = colors_outliers,s =50)\n",
    "ax.scatter(clusters_X[:,0],clusters_X[:,1], c = colors_clusters,s =50)\n",
    "plt.ylabel(\"Conductivity (S/m)\")\n",
    "plt.xlabel(\"Temperature (C)\")\n",
    "plt.tight_layout()"
   ]
  }
 ],
 "metadata": {
  "kernelspec": {
   "display_name": "Python 3 (ipykernel)",
   "language": "python",
   "name": "python3"
  },
  "language_info": {
   "codemirror_mode": {
    "name": "ipython",
    "version": 3
   },
   "file_extension": ".py",
   "mimetype": "text/x-python",
   "name": "python",
   "nbconvert_exporter": "python",
   "pygments_lexer": "ipython3",
   "version": "3.7.7"
  }
 },
 "nbformat": 4,
 "nbformat_minor": 4
}
