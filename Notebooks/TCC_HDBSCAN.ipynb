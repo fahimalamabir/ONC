{
 "cells": [
  {
   "cell_type": "code",
   "execution_count": 1,
   "metadata": {},
   "outputs": [],
   "source": [
    "import warnings\n",
    "warnings.filterwarnings(\"ignore\")\n",
    "import hdbscan\n",
    "\n",
    "import numpy as np\n",
    "import pandas as pd\n",
    "\n",
    "import matplotlib.pyplot as plt\n",
    "import seaborn as sns\n",
    "plot_kwds = {'alpha' : 0.25, 's' : 10, 'linewidths':0}\n",
    "\n",
    "\n",
    "from pylab import rcParams\n",
    "\n",
    "rcParams['figure.figsize'] = 14,6\n",
    "\n",
    "%matplotlib inline"
   ]
  },
  {
   "cell_type": "markdown",
   "metadata": {},
   "source": [
    "#### 7 days"
   ]
  },
  {
   "cell_type": "code",
   "execution_count": 2,
   "metadata": {},
   "outputs": [],
   "source": [
    "df = pd.read_csv('BaynesSoundMooring_5mbss_ConductivityTemperatureDepth_20200117T030000Z_20200119T235959Z-NaN.csv',skipinitialspace=True)\n",
    "df.rename(columns={df.columns[0]: 'UTC time', df.columns[1]: 'Conductivity',df.columns[15]: 'Temperature'},inplace=True)\n",
    "X = df[['Conductivity','Temperature']].values"
   ]
  },
  {
   "cell_type": "code",
   "execution_count": 8,
   "metadata": {},
   "outputs": [
    {
     "name": "stdout",
     "output_type": "stream",
     "text": [
      "Best Parameters {'min_samples': 80, 'min_cluster_size': 200, 'metric': 'manhattan', 'cluster_selection_method': 'leaf', 'cluster_selection_epsilon': 0.1}\n",
      "DBCV score :0.33449549433424774\n"
     ]
    }
   ],
   "source": [
    "from sklearn.model_selection import RandomizedSearchCV\n",
    "import hdbscan\n",
    "from sklearn.metrics import make_scorer\n",
    "\n",
    "SEED = 42\n",
    "np.random.seed(SEED)  # set the random seed as best we can\n",
    "\n",
    "hdb = hdbscan.HDBSCAN(gen_min_span_tree=True).fit(X)\n",
    "\n",
    "# specify parameters and distributions to sample from\n",
    "param_dist = {'min_samples': [20,40,60,80,100,120,140,160,180,200],\n",
    "              'min_cluster_size':[50,100,150,200,250,300,350], \n",
    "              'cluster_selection_epsilon': [0.1,0.001,0.0001,0.00001],\n",
    "              'cluster_selection_method' : ['eom','leaf'],\n",
    "              'metric' : ['euclidean','manhattan'] \n",
    "             }\n",
    "\n",
    "#validity_scroer = \"hdbscan__hdbscan___HDBSCAN__validity_index\"\n",
    "validity_scorer = make_scorer(hdbscan.validity.validity_index,greater_is_better=True)\n",
    "\n",
    "\n",
    "n_iter_search = 20\n",
    "random_search = RandomizedSearchCV(hdb\n",
    "                                   ,param_distributions=param_dist\n",
    "                                   ,n_iter=n_iter_search\n",
    "                                   ,scoring=validity_scorer \n",
    "                                   ,random_state=SEED)\n",
    "\n",
    "random_search.fit(X)\n",
    "\n",
    "\n",
    "print(f\"Best Parameters {random_search.best_params_}\")\n",
    "print(f\"DBCV score :{random_search.best_estimator_.relative_validity_}\")"
   ]
  },
  {
   "cell_type": "code",
   "execution_count": 9,
   "metadata": {},
   "outputs": [
    {
     "name": "stdout",
     "output_type": "stream",
     "text": [
      "   cluster  count\n",
      "5       -1     83\n",
      "1        0  63528\n",
      "4        1   6488\n",
      "0        2  77146\n",
      "3        3  40046\n",
      "2        4  58113\n"
     ]
    }
   ],
   "source": [
    "import hdbscan\n",
    "\n",
    "\n",
    "clust  = hdbscan.HDBSCAN(algorithm='best', alpha=1.0, approx_min_span_tree=True,gen_min_span_tree=False, \n",
    "                         min_samples= 80, min_cluster_size= 200, cluster_selection_epsilon= 0.1,\n",
    "                         metric='euclidean', cluster_selection_method= 'eom', p=None).fit(X)\n",
    "\n",
    "labels = clust.labels_\n",
    "clustered = (labels >= 0)\n",
    "\n",
    "cnts = pd.DataFrame(labels)[0].value_counts()\n",
    "cnts = cnts.reset_index()\n",
    "cnts.columns = ['cluster','count']\n",
    "print(cnts.sort_values(['cluster']))"
   ]
  },
  {
   "cell_type": "code",
   "execution_count": 5,
   "metadata": {},
   "outputs": [],
   "source": [
    "from sklearn.preprocessing import StandardScaler, normalize\n",
    "from sklearn.decomposition import PCA\n",
    "\n",
    "# Standardize data\n",
    "scaler = StandardScaler() \n",
    "scaled_df = scaler.fit_transform(X) \n",
    "  \n",
    "# Normalizing the Data \n",
    "normalized_df = normalize(scaled_df) \n",
    "  \n",
    "# Converting the numpy array into a pandas DataFrame \n",
    "normalized_df = pd.DataFrame(normalized_df) \n",
    "  \n",
    "# Reducing the dimensions of the data \n",
    "pca = PCA(n_components = 2) \n",
    "X_principal = pca.fit_transform(normalized_df) \n",
    "X_principal = pd.DataFrame(X_principal) "
   ]
  },
  {
   "cell_type": "code",
   "execution_count": 6,
   "metadata": {},
   "outputs": [
    {
     "name": "stdout",
     "output_type": "stream",
     "text": [
      "   cluster   count\n",
      "0        0  147182\n",
      "1        1   98222\n"
     ]
    }
   ],
   "source": [
    "import hdbscan\n",
    "\n",
    "\n",
    "clust  = hdbscan.HDBSCAN(algorithm='best', alpha=1.0, approx_min_span_tree=True,gen_min_span_tree=False, \n",
    "                         min_samples= 80, min_cluster_size= 200, cluster_selection_epsilon= 0.1,\n",
    "                         metric='euclidean', cluster_selection_method= 'eom', p=None).fit(X_principal)\n",
    "\n",
    "labels = clust.labels_\n",
    "clustered = (labels >= 0)\n",
    "\n",
    "cnts = pd.DataFrame(labels)[0].value_counts()\n",
    "cnts = cnts.reset_index()\n",
    "cnts.columns = ['cluster','count']\n",
    "print(cnts.sort_values(['cluster']))"
   ]
  },
  {
   "cell_type": "code",
   "execution_count": 7,
   "metadata": {},
   "outputs": [
    {
     "data": {
      "image/png": "[encoded data removed]",
      "text/plain": [
       "<Figure size 432x288 with 1 Axes>"
      ]
     },
     "metadata": {
      "needs_background": "light"
     },
     "output_type": "display_data"
    }
   ],
   "source": [
    "# Visualizing the clustering \n",
    "plt.scatter(X[:,0], X[:,1],  \n",
    "           c = labels, cmap =plt.cm.winter, alpha = 0.6) \n",
    "plt.show() "
   ]
  },
  {
   "cell_type": "markdown",
   "metadata": {},
   "source": [
    "####  14 days"
   ]
  },
  {
   "cell_type": "code",
   "execution_count": 8,
   "metadata": {},
   "outputs": [],
   "source": [
    "df = pd.read_csv('BaynesSoundMooring_40mbss_ConductivityTemperatureDepth_20200305T000000Z_20200313T210509Z-NaN.csv',skipinitialspace=True)\n",
    "df.rename(columns={df.columns[0]: 'UTC time', df.columns[1]: 'Conductivity',df.columns[15]: 'Temperature'},inplace=True)\n",
    "X = df[['Conductivity','Temperature']].values\n"
   ]
  },
  {
   "cell_type": "code",
   "execution_count": 9,
   "metadata": {},
   "outputs": [],
   "source": [
    "from sklearn.preprocessing import StandardScaler, normalize\n",
    "from sklearn.decomposition import PCA\n",
    "\n",
    "# Standardize data\n",
    "scaler = StandardScaler() \n",
    "scaled_df = scaler.fit_transform(X) \n",
    "  \n",
    "# Normalizing the Data \n",
    "normalized_df = normalize(scaled_df) \n",
    "  \n",
    "# Converting the numpy array into a pandas DataFrame \n",
    "normalized_df = pd.DataFrame(normalized_df) \n",
    "  \n",
    "# Reducing the dimensions of the data \n",
    "pca = PCA(n_components = 2) \n",
    "X_principal = pca.fit_transform(normalized_df) \n",
    "X_principal = pd.DataFrame(X_principal) "
   ]
  },
  {
   "cell_type": "code",
   "execution_count": 9,
   "metadata": {},
   "outputs": [
    {
     "name": "stdout",
     "output_type": "stream",
     "text": [
      "Best Parameters {'min_samples': 80, 'min_cluster_size': 200, 'metric': 'manhattan', 'cluster_selection_method': 'leaf', 'cluster_selection_epsilon': 0.1}\n",
      "DBCV score :8.745442411846478e-06\n"
     ]
    }
   ],
   "source": [
    "from sklearn.model_selection import RandomizedSearchCV\n",
    "import hdbscan\n",
    "from sklearn.metrics import make_scorer\n",
    "\n",
    "SEED = 42\n",
    "np.random.seed(SEED)  # set the random seed as best we can\n",
    "\n",
    "hdb = hdbscan.HDBSCAN(gen_min_span_tree=True).fit(X_principal)\n",
    "\n",
    "# specify parameters and distributions to sample from\n",
    "param_dist = {'min_samples': [20,40,60,80,100,120,140,160,180,200],\n",
    "              'min_cluster_size':[50,100,150,200,250,300,350], \n",
    "              'cluster_selection_epsilon': [0.1,0.001,0.0001,0.00001],\n",
    "              'cluster_selection_method' : ['eom','leaf'],\n",
    "              'metric' : ['euclidean','manhattan'] \n",
    "             }\n",
    "\n",
    "#validity_scroer = \"hdbscan__hdbscan___HDBSCAN__validity_index\"\n",
    "validity_scorer = make_scorer(hdbscan.validity.validity_index,greater_is_better=True)\n",
    "\n",
    "\n",
    "n_iter_search = 20\n",
    "random_search = RandomizedSearchCV(hdb\n",
    "                                   ,param_distributions=param_dist\n",
    "                                   ,n_iter=n_iter_search\n",
    "                                   ,scoring=validity_scorer \n",
    "                                   ,random_state=SEED)\n",
    "\n",
    "random_search.fit(X_principal)\n",
    "\n",
    "\n",
    "print(f\"Best Parameters {random_search.best_params_}\")\n",
    "print(f\"DBCV score :{random_search.best_estimator_.relative_validity_}\")"
   ]
  },
  {
   "cell_type": "code",
   "execution_count": 10,
   "metadata": {},
   "outputs": [
    {
     "name": "stdout",
     "output_type": "stream",
     "text": [
      "   cluster   count\n",
      "2       -1      26\n",
      "1        0  360430\n",
      "0        1  393848\n"
     ]
    }
   ],
   "source": [
    "import hdbscan\n",
    "\n",
    "\n",
    "clust  = hdbscan.HDBSCAN(algorithm='best', alpha=1.0, approx_min_span_tree=True,gen_min_span_tree=False, \n",
    "                         min_samples= 80, min_cluster_size= 200, cluster_selection_epsilon= 0.01,\n",
    "                         metric='euclidean', cluster_selection_method= 'eom', p=None).fit(X_principal)\n",
    "\n",
    "labels = clust.labels_\n",
    "clustered = (labels >= 0)\n",
    "\n",
    "cnts = pd.DataFrame(labels)[0].value_counts()\n",
    "cnts = cnts.reset_index()\n",
    "cnts.columns = ['cluster','count']\n",
    "print(cnts.sort_values(['cluster']))"
   ]
  },
  {
   "cell_type": "code",
   "execution_count": 14,
   "metadata": {},
   "outputs": [
    {
     "data": {
      "image/png": "[encoded data removed]",
      "text/plain": [
       "<Figure size 432x288 with 1 Axes>"
      ]
     },
     "metadata": {
      "needs_background": "light"
     },
     "output_type": "display_data"
    }
   ],
   "source": [
    "# Visualizing the clustering \n",
    "plt.scatter(X[:,0], X[:,1],  \n",
    "           c = labels, cmap =plt.cm.winter, alpha = 0.6) \n",
    "plt.show() "
   ]
  },
  {
   "cell_type": "code",
   "execution_count": 15,
   "metadata": {},
   "outputs": [
    {
     "name": "stdout",
     "output_type": "stream",
     "text": [
      "   cluster   count\n",
      "2       -1      26\n",
      "1        0  360430\n",
      "0        1  393848\n"
     ]
    }
   ],
   "source": [
    "clust  = hdbscan.HDBSCAN(algorithm='best', alpha=1.0, approx_min_span_tree=True,gen_min_span_tree=False, \n",
    "                         min_samples= 80, min_cluster_size= 200, cluster_selection_epsilon= 0.1,\n",
    "                         metric='euclidean', cluster_selection_method= 'eom', p=None).fit(X_principal)\n",
    "\n",
    "labels = clust.labels_\n",
    "clustered = (labels >= 0)\n",
    "\n",
    "cnts = pd.DataFrame(labels)[0].value_counts()\n",
    "cnts = cnts.reset_index()\n",
    "cnts.columns = ['cluster','count']\n",
    "print(cnts.sort_values(['cluster']))"
   ]
  },
  {
   "cell_type": "code",
   "execution_count": null,
   "metadata": {},
   "outputs": [],
   "source": []
  }
 ],
 "metadata": {
  "kernelspec": {
   "display_name": "Python 3 (ipykernel)",
   "language": "python",
   "name": "python3"
  },
  "language_info": {
   "codemirror_mode": {
    "name": "ipython",
    "version": 3
   },
   "file_extension": ".py",
   "mimetype": "text/x-python",
   "name": "python",
   "nbconvert_exporter": "python",
   "pygments_lexer": "ipython3",
   "version": "3.10.0"
  }
 },
 "nbformat": 4,
 "nbformat_minor": 4
}
