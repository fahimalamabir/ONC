{
 "cells": [
  {
   "cell_type": "markdown",
   "metadata": {},
   "source": [
    "#### import modules and packages"
   ]
  },
  {
   "cell_type": "code",
   "execution_count": 1,
   "metadata": {},
   "outputs": [],
   "source": [
    "import warnings\n",
    "warnings.filterwarnings(\"ignore\")\n",
    "\n",
    "import pandas as pd\n",
    "\n",
    "import matplotlib.pyplot as plt\n",
    "from datetime import datetime as dt\n",
    "\n",
    "from onc.onc import ONC\n",
    "\n",
    "import numpy as np\n",
    "\n",
    "from sklearn.cluster import DBSCAN\n",
    "from sklearn import metrics\n",
    "from sklearn.preprocessing import StandardScaler\n",
    "from sklearn.neighbors import NearestNeighbors\n",
    "\n",
    "from collections import Counter\n",
    "from pylab import rcParams\n",
    "from kneed import KneeLocator\n",
    "\n",
    "\n",
    "rcParams['figure.figsize'] = 14,6\n",
    "\n",
    "%matplotlib inline"
   ]
  },
  {
   "cell_type": "markdown",
   "metadata": {},
   "source": [
    "#### Load data"
   ]
  },
  {
   "cell_type": "code",
   "execution_count": 2,
   "metadata": {},
   "outputs": [
    {
     "data": {
      "text/plain": [
       "(754304, 2)"
      ]
     },
     "execution_count": 2,
     "metadata": {},
     "output_type": "execute_result"
    },
    {
     "data": {
      "image/png": "[encoded data removed]",
      "text/plain": [
       "<Figure size 432x288 with 1 Axes>"
      ]
     },
     "metadata": {
      "needs_background": "light"
     },
     "output_type": "display_data"
    }
   ],
   "source": [
    "df = pd.read_csv('BaynesSoundMooring_40mbss_ConductivityTemperatureDepth_20200305T000000Z_20200313T210509Z-NaN.csv',skipinitialspace=True)\n",
    "df.rename(columns={df.columns[0]: 'UTC time', df.columns[1]: 'Conductivity (S/m)',df.columns[15]: 'Temperature (C)'},inplace=True)\n",
    "\n",
    "fig = df.plot.scatter(x='Conductivity (S/m)',y='Temperature (C)')\n",
    "\n",
    "df = df.iloc[:,[1,15]].values\n",
    "df.shape"
   ]
  },
  {
   "cell_type": "markdown",
   "metadata": {},
   "source": [
    "#### Preparing DBSCAN model ( train model and identify outliers)"
   ]
  },
  {
   "cell_type": "code",
   "execution_count": 3,
   "metadata": {},
   "outputs": [
    {
     "data": {
      "text/plain": [
       "Text(0.5, 0, 'Number of clusters')"
      ]
     },
     "execution_count": 3,
     "metadata": {},
     "output_type": "execute_result"
    },
    {
     "data": {
      "image/png": "[encoded data removed]",
      "text/plain": [
       "<Figure size 432x288 with 1 Axes>"
      ]
     },
     "metadata": {
      "needs_background": "light"
     },
     "output_type": "display_data"
    }
   ],
   "source": [
    "# How many possible clusters?\n",
    "from sklearn.cluster import KMeans\n",
    "\n",
    "Km = []\n",
    "for i in range(1,7):\n",
    "    kmeans = KMeans(n_clusters = i,\n",
    "                   init = 'k-means++', max_iter = 300, n_init = 10)\n",
    "    kmeans.fit(df)\n",
    "    Km.append(kmeans.inertia_)\n",
    "plt.plot(range(1,7),Km)\n",
    "plt.title(\"The Elbow Method\")\n",
    "plt.xlabel(\"Number of clusters\")"
   ]
  },
  {
   "cell_type": "markdown",
   "metadata": {},
   "source": [
    "#### Tuning parameters for DBSCAN"
   ]
  },
  {
   "cell_type": "markdown",
   "metadata": {},
   "source": [
    "The argument 'eps' is the distance between two samples to be considered as a neighborhood and 'min_samples' is the number of samples in a neighborhood."
   ]
  },
  {
   "cell_type": "code",
   "execution_count": 43,
   "metadata": {},
   "outputs": [
    {
     "data": {
      "text/plain": [
       "17"
      ]
     },
     "execution_count": 43,
     "metadata": {},
     "output_type": "execute_result"
    }
   ],
   "source": [
    "db1 = DBSCAN(eps= 0.00001, min_samples= 50).fit(df)\n",
    "labels = db1.labels_\n",
    "len(set(labels))"
   ]
  },
  {
   "cell_type": "code",
   "execution_count": 44,
   "metadata": {},
   "outputs": [
    {
     "data": {
      "text/plain": [
       "Counter({-1: 753301,\n",
       "         0: 50,\n",
       "         1: 84,\n",
       "         2: 50,\n",
       "         3: 52,\n",
       "         4: 94,\n",
       "         5: 67,\n",
       "         6: 83,\n",
       "         7: 51,\n",
       "         8: 65,\n",
       "         9: 67,\n",
       "         10: 52,\n",
       "         11: 66,\n",
       "         12: 65,\n",
       "         13: 50,\n",
       "         14: 56,\n",
       "         15: 51})"
      ]
     },
     "execution_count": 44,
     "metadata": {},
     "output_type": "execute_result"
    }
   ],
   "source": [
    "Counter(labels)"
   ]
  },
  {
   "cell_type": "code",
   "execution_count": 45,
   "metadata": {},
   "outputs": [],
   "source": [
    "from sklearn.preprocessing import StandardScaler\n",
    "scaler = StandardScaler()\n",
    "df1 = scaler.fit_transform(df)"
   ]
  },
  {
   "cell_type": "code",
   "execution_count": 46,
   "metadata": {},
   "outputs": [
    {
     "data": {
      "text/plain": [
       "5"
      ]
     },
     "execution_count": 46,
     "metadata": {},
     "output_type": "execute_result"
    }
   ],
   "source": [
    "db2 = DBSCAN(eps= 0.00001, min_samples= 50).fit(df1)\n",
    "labels = db2.labels_\n",
    "len(set(labels))"
   ]
  },
  {
   "cell_type": "code",
   "execution_count": 47,
   "metadata": {},
   "outputs": [
    {
     "data": {
      "text/plain": [
       "Counter({-1: 754093, 0: 50, 1: 60, 2: 50, 3: 51})"
      ]
     },
     "execution_count": 47,
     "metadata": {},
     "output_type": "execute_result"
    }
   ],
   "source": [
    "Counter(labels)"
   ]
  },
  {
   "cell_type": "code",
   "execution_count": 51,
   "metadata": {},
   "outputs": [],
   "source": [
    "from sklearn.mixture import GaussianMixture\n",
    "gmm = GaussianMixture(n_components= 3)\n",
    "\n",
    "gma = gmm.fit(df1)"
   ]
  },
  {
   "cell_type": "code",
   "execution_count": 53,
   "metadata": {},
   "outputs": [],
   "source": [
    "labels = gma.predict(df1)\n",
    "frame = pd.DataFrame(df1)\n",
    "frame['cluster'] = labels\n",
    "frame.columns = ['Weight', 'Height', 'cluster']"
   ]
  },
  {
   "cell_type": "code",
   "execution_count": 55,
   "metadata": {},
   "outputs": [
    {
     "data": {
      "text/plain": [
       "{0, 1, 2}"
      ]
     },
     "execution_count": 55,
     "metadata": {},
     "output_type": "execute_result"
    }
   ],
   "source": [
    "set(frame['cluster'])"
   ]
  },
  {
   "cell_type": "code",
   "execution_count": 56,
   "metadata": {},
   "outputs": [],
   "source": [
    "gmb = gmm.fit(df)\n",
    "labels = gmb.predict(df)\n",
    "frame = pd.DataFrame(df)\n",
    "frame['cluster'] = labels\n",
    "frame.columns = ['Weight', 'Height', 'cluster']"
   ]
  },
  {
   "cell_type": "code",
   "execution_count": 57,
   "metadata": {},
   "outputs": [
    {
     "data": {
      "text/plain": [
       "{0, 1, 2}"
      ]
     },
     "execution_count": 57,
     "metadata": {},
     "output_type": "execute_result"
    }
   ],
   "source": [
    "set(frame['cluster'])"
   ]
  },
  {
   "cell_type": "code",
   "execution_count": 69,
   "metadata": {},
   "outputs": [
    {
     "data": {
      "image/png": "[encoded data removed]",
      "text/plain": [
       "<Figure size 432x288 with 1 Axes>"
      ]
     },
     "metadata": {
      "needs_background": "light"
     },
     "output_type": "display_data"
    }
   ],
   "source": [
    "color=['blue','green','cyan']\n",
    "for k in range(0,3):\n",
    "    data = frame[frame[\"cluster\"]==k]\n",
    "    plt.scatter(data[\"Weight\"],data[\"Height\"],c=color[k],\n",
    "               label = k)\n",
    "\n",
    "plt.legend(loc=\"upper left\")\n",
    "plt.title('Gaussian')\n",
    "\n",
    "plt.show()"
   ]
  },
  {
   "cell_type": "code",
   "execution_count": 70,
   "metadata": {},
   "outputs": [
    {
     "data": {
      "image/png": "[encoded data removed]",
      "text/plain": [
       "<Figure size 432x288 with 1 Axes>"
      ]
     },
     "metadata": {
      "needs_background": "light"
     },
     "output_type": "display_data"
    }
   ],
   "source": [
    "from sklearn.cluster import KMeans\n",
    "kmeans = KMeans(n_clusters=3)\n",
    "kmeans.fit(df1)\n",
    "\n",
    "#predictions from kmeans\n",
    "pred = kmeans.predict(df1)\n",
    "frame = pd.DataFrame(df1)\n",
    "frame['cluster'] = pred\n",
    "frame.columns = ['Weight', 'Height', 'cluster']\n",
    "\n",
    "#plotting results\n",
    "color=['blue','green','cyan']\n",
    "for k in range(0,3):\n",
    "    data = frame[frame[\"cluster\"]==k]\n",
    "    plt.scatter(data[\"Weight\"],data[\"Height\"],c=color[k],label =k)\n",
    "    \n",
    "plt.legend(loc=\"upper left\")\n",
    "plt.title('kmeans')\n",
    "\n",
    "plt.show()"
   ]
  },
  {
   "cell_type": "code",
   "execution_count": null,
   "metadata": {},
   "outputs": [],
   "source": []
  },
  {
   "cell_type": "code",
   "execution_count": null,
   "metadata": {},
   "outputs": [],
   "source": [
    "# Plotting various clusters\n",
    "plt.scatter(df1[db1.labels_ == 0, 0],\n",
    "            df1[db1.labels_ == 0, 1],\n",
    "            c = \"red\",\n",
    "           label = \"Cluster 1\")\n",
    "\n",
    "plt.scatter(df1[db1.labels_ == 1, 0],\n",
    "            df1[db1.labels_ == 1, 1],\n",
    "            c = \"magenta\",\n",
    "           label = \"Cluster 2\")\n",
    "\n",
    "plt.scatter(df1[db1.labels_ == 2, 0],\n",
    "            df1[db1.labels_ == 2, 1],\n",
    "            c = \"green\",\n",
    "           label = \"Cluster 3\")\n",
    "\n",
    "plt.scatter(df1[db1.labels_ == 3, 0],\n",
    "            df1[db1.labels_ == 3, 1],\n",
    "            c = \"brown\",\n",
    "           label = \"Cluster 4\")\n",
    "\n",
    "\n",
    "plt.scatter(df1[db1.labels_ == -1, 0],\n",
    "            df1[db1.labels_ == -1, 1],\n",
    "            c = \"orange\",\n",
    "           label = \"OutLiers\")\n",
    "\n",
    "# Plotting legend\n",
    "plt.legend()\n",
    "\n",
    "# Setting the title of the Plot\n",
    "plt.title(\"Clustering based on C & T\")\n",
    "\n",
    "# Disabling x axis & y axis labels\n",
    "plt.xticks([])\n",
    "plt.yticks([])\n",
    "\n",
    "# Plotting the plot\n",
    "plt.show()"
   ]
  }
 ],
 "metadata": {
  "kernelspec": {
   "display_name": "Python 3 (ipykernel)",
   "language": "python",
   "name": "python3"
  },
  "language_info": {
   "codemirror_mode": {
    "name": "ipython",
    "version": 3
   },
   "file_extension": ".py",
   "mimetype": "text/x-python",
   "name": "python",
   "nbconvert_exporter": "python",
   "pygments_lexer": "ipython3",
   "version": "3.10.0"
  }
 },
 "nbformat": 4,
 "nbformat_minor": 1
}
