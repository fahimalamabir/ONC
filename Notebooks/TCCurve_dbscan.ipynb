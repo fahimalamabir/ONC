{
 "cells": [
  {
   "cell_type": "markdown",
   "metadata": {},
   "source": [
    "#### import modules and packages"
   ]
  },
  {
   "cell_type": "code",
   "execution_count": 1,
   "metadata": {},
   "outputs": [],
   "source": [
    "import warnings\n",
    "warnings.filterwarnings(\"ignore\")\n",
    "\n",
    "import pandas as pd\n",
    "\n",
    "import matplotlib.pyplot as plt\n",
    "from datetime import datetime as dt\n",
    "\n",
    "from onc.onc import ONC\n",
    "\n",
    "import numpy as np\n",
    "\n",
    "from sklearn.cluster import DBSCAN\n",
    "from sklearn import metrics\n",
    "from sklearn.preprocessing import StandardScaler\n",
    "from sklearn.neighbors import NearestNeighbors\n",
    "\n",
    "from collections import Counter\n",
    "from pylab import rcParams\n",
    "from kneed import KneeLocator\n",
    "\n",
    "\n",
    "rcParams['figure.figsize'] = 14,6\n",
    "\n",
    "%matplotlib inline"
   ]
  },
  {
   "cell_type": "markdown",
   "metadata": {},
   "source": [
    "#### Load data"
   ]
  },
  {
   "cell_type": "code",
   "execution_count": 2,
   "metadata": {},
   "outputs": [
    {
     "data": {
      "image/png": "[encoded data removed]",
      "text/plain": [
       "<Figure size 432x288 with 1 Axes>"
      ]
     },
     "metadata": {
      "needs_background": "light"
     },
     "output_type": "display_data"
    }
   ],
   "source": [
    "df = pd.read_csv('BaynesSoundMooring_40mbss_ConductivityTemperatureDepth_20200305T000000Z_20200313T210509Z-NaN.csv',skipinitialspace=True)\n",
    "df.rename(columns={df.columns[0]: 'UTC time', df.columns[1]: 'Conductivity (S/m)',df.columns[15]: 'Temperature (C)'},inplace=True)\n",
    "fig = df.plot.scatter(x='Conductivity (S/m)',y='Temperature (C)')"
   ]
  },
  {
   "cell_type": "markdown",
   "metadata": {},
   "source": [
    "#### Preparing DBSCAN model ( train model and identify outliers)"
   ]
  },
  {
   "cell_type": "code",
   "execution_count": 3,
   "metadata": {
    "scrolled": true
   },
   "outputs": [],
   "source": [
    "# prepare data for model\n",
    "X = df[['Conductivity (S/m)','Temperature (C)']]\n",
    "df = X.copy()"
   ]
  },
  {
   "cell_type": "markdown",
   "metadata": {},
   "source": [
    "When it comes to clustering, especially the density-based approach, it is crucial to prepare the data before putting it into the model. While you may want to perform multiple transformations, the most common one is scaling."
   ]
  },
  {
   "cell_type": "raw",
   "metadata": {},
   "source": [
    "# Normalize data\n",
    "X_scalar = StandardScaler()\n",
    "X_sc_fitted = X_scalar.fit_transform(X) "
   ]
  },
  {
   "cell_type": "markdown",
   "metadata": {},
   "source": [
    "#### Tuning parameters for DBSCAN"
   ]
  },
  {
   "cell_type": "code",
   "execution_count": 4,
   "metadata": {},
   "outputs": [],
   "source": [
    "neigh = NearestNeighbors(n_neighbors = df.shape[1]*2)\n",
    "nbrs = neigh.fit(X)\n",
    "\n",
    "distances, indices = nbrs.kneighbors(X)\n",
    "distances = np.sort(distances, axis = 0)\n",
    "distances = distances[:,1] # last cell of each row represents the distanct of k's fastest  point\n",
    "\n",
    "i = np.arange(len(distances))\n",
    "knee = KneeLocator(i, distances, S=1, curve='convex', direction='increasing', interp_method='polynomial')\n",
    "\n",
    "\n",
    "db1 = DBSCAN(eps=distances[knee.knee], min_samples=df.shape[1]*2).fit(X)\n",
    "labels = db1.labels_"
   ]
  },
  {
   "cell_type": "code",
   "execution_count": 5,
   "metadata": {},
   "outputs": [
    {
     "data": {
      "text/plain": [
       "31999"
      ]
     },
     "execution_count": 5,
     "metadata": {},
     "output_type": "execute_result"
    }
   ],
   "source": [
    "len(set(labels))"
   ]
  },
  {
   "cell_type": "code",
   "execution_count": 7,
   "metadata": {},
   "outputs": [
    {
     "name": "stdout",
     "output_type": "stream",
     "text": [
      "31998\n"
     ]
    }
   ],
   "source": [
    "#identifying the points which makes up our core points\n",
    "sample_cores=np.zeros_like(labels,dtype=bool)\n",
    "sample_cores[db1.core_sample_indices_]=True\n",
    "\n",
    "#Calculating the number of clusters\n",
    "n_clusters=len(set(labels))- (1 if -1 in labels else 0)\n",
    "print(n_clusters)"
   ]
  },
  {
   "cell_type": "code",
   "execution_count": null,
   "metadata": {},
   "outputs": [],
   "source": [
    "# Create empty lists\n",
    "S=[] # this is to store Silhouette scores\n",
    "comb=[] # this is to store combinations of epsilon / min_samples\n",
    "\n",
    "# Define ranges to explore\n",
    "eps_range=range(6,12) # note, we will scale this down by 100 as we want to explore 0.06 - 0.11 range\n",
    "minpts_range=range(3,8)\n",
    "\n",
    "for k in eps_range:\n",
    "    for j in minpts_range:\n",
    "        # Set the model and its parameters\n",
    "        model = DBSCAN(eps=k/100, min_samples=j)\n",
    "        # Fit the model \n",
    "        clm = model.fit(X)\n",
    "        # Calculate Silhoutte Score and append to a list\n",
    "        S.append(metrics.silhouette_score(X, clm.labels_, metric='euclidean'))\n",
    "        comb.append(str(k)+\"|\"+str(j)) # axis values for the graph\n",
    "\n",
    "# Plot the resulting Silhouette scores on a graph\n",
    "plt.figure(figsize=(16,8), dpi=300)\n",
    "plt.plot(comb, S, 'bo-', color='black')\n",
    "plt.xlabel('Epsilon/100 | MinPts')\n",
    "plt.ylabel('Silhouette Score')\n",
    "plt.title('Silhouette Score based on different combnation of Hyperparameters')\n",
    "plt.show()"
   ]
  },
  {
   "cell_type": "markdown",
   "metadata": {},
   "source": [
    "The metric score comes to be negative and it means that the samples are assigned to the wrong cluster. The score comes in between “1” to “-1” where “1” indicates good values and “-1” indicates the worst value."
   ]
  },
  {
   "cell_type": "code",
   "execution_count": null,
   "metadata": {},
   "outputs": [],
   "source": [
    "# Separate outliers from clustered data\n",
    "outliers_X = X[labels == -1]\n",
    "clusters_X = X[labels != -1]"
   ]
  },
  {
   "cell_type": "code",
   "execution_count": null,
   "metadata": {},
   "outputs": [],
   "source": [
    "colors_clusters = labels[labels != -1]\n",
    "colors_outliers = 'black'"
   ]
  },
  {
   "cell_type": "code",
   "execution_count": null,
   "metadata": {},
   "outputs": [],
   "source": [
    "# get info about the clusters\n",
    "clusters = Counter(labels)\n",
    "print(clusters)\n",
    "print('Number of cluster = {}'.format(len(clusters)-1))"
   ]
  },
  {
   "cell_type": "code",
   "execution_count": null,
   "metadata": {},
   "outputs": [],
   "source": [
    "# plot clusters and outliers\n",
    "fig = plt.figure()\n",
    "ax = fig.add_axes([.1, .1, 1, 1])\n",
    "\n",
    "ax.scatter(outliers_X.iloc[:,0],outliers_X.iloc[:,1], c = colors_outliers,s =50)\n",
    "ax.scatter(clusters_X.iloc[:,0],clusters_X.iloc[:,1], c = colors_clusters,s =50)\n",
    "plt.ylabel(\"Conductivity (S/m)\")\n",
    "plt.xlabel(\"Temperature (C)\")\n",
    "plt.tight_layout()"
   ]
  },
  {
   "cell_type": "code",
   "execution_count": null,
   "metadata": {},
   "outputs": [],
   "source": [
    "from sklearn.metrics import silhouette_score\n",
    "silhouette_score(X,labels)"
   ]
  },
  {
   "cell_type": "code",
   "execution_count": null,
   "metadata": {},
   "outputs": [],
   "source": [
    "db2 = DBSCAN(eps=ep1, min_samples=0.01, algorithm ='ball_tree').fit(X)"
   ]
  },
  {
   "cell_type": "code",
   "execution_count": null,
   "metadata": {},
   "outputs": [],
   "source": [
    "labels2 = db2.labels_"
   ]
  },
  {
   "cell_type": "code",
   "execution_count": null,
   "metadata": {},
   "outputs": [],
   "source": [
    "silhouette_score(X,labels2)"
   ]
  },
  {
   "cell_type": "code",
   "execution_count": null,
   "metadata": {},
   "outputs": [],
   "source": [
    "db3 = DBSCAN(eps=ep1, min_samples=0.01, algorithm ='kd_tree').fit(X)"
   ]
  },
  {
   "cell_type": "code",
   "execution_count": null,
   "metadata": {},
   "outputs": [],
   "source": [
    "labels3 = db3.labels_"
   ]
  },
  {
   "cell_type": "code",
   "execution_count": null,
   "metadata": {},
   "outputs": [],
   "source": [
    "silhouette_score(X,labels3)"
   ]
  },
  {
   "cell_type": "code",
   "execution_count": null,
   "metadata": {},
   "outputs": [],
   "source": [
    "db4 = DBSCAN(eps=ep1, min_samples=0.01, algorithm ='brute').fit(X)"
   ]
  },
  {
   "cell_type": "code",
   "execution_count": null,
   "metadata": {},
   "outputs": [],
   "source": [
    "labels4 = db4.labels_"
   ]
  },
  {
   "cell_type": "code",
   "execution_count": null,
   "metadata": {},
   "outputs": [],
   "source": [
    "silhouette_score(X,labels4)"
   ]
  },
  {
   "cell_type": "code",
   "execution_count": null,
   "metadata": {},
   "outputs": [],
   "source": [
    "db5 = DBSCAN(eps=ep1, min_samples=10,algorithm='ball_tree', metric='haversine').fit(X)\n",
    "labels5 = db5.labels_\n",
    "silhouette_score(X,labels5)"
   ]
  },
  {
   "cell_type": "code",
   "execution_count": null,
   "metadata": {},
   "outputs": [],
   "source": [
    "def pnorm(x,y):\n",
    "  return np.sum(np.abs(x-y)**1)**(1/1)\n",
    "    # np.sum(np.abs(x-y)**p)**(1/p)\n",
    "\n",
    "db6 = DBSCAN(eps=ep1, min_samples=10,algorithm='ball_tree', metric=pnorm).fit(X)\n",
    "labels6 = db5.labels_\n",
    "silhouette_score(X,labels6)"
   ]
  },
  {
   "cell_type": "code",
   "execution_count": null,
   "metadata": {},
   "outputs": [],
   "source": []
  }
 ],
 "metadata": {
  "kernelspec": {
   "display_name": "Python 3 (ipykernel)",
   "language": "python",
   "name": "python3"
  },
  "language_info": {
   "codemirror_mode": {
    "name": "ipython",
    "version": 3
   },
   "file_extension": ".py",
   "mimetype": "text/x-python",
   "name": "python",
   "nbconvert_exporter": "python",
   "pygments_lexer": "ipython3",
   "version": "3.10.0"
  }
 },
 "nbformat": 4,
 "nbformat_minor": 1
}
