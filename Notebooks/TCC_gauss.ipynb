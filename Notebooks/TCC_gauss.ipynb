{
 "cells": [
  {
   "cell_type": "code",
   "execution_count": 1,
   "id": "35e60f11",
   "metadata": {},
   "outputs": [],
   "source": [
    "import warnings\n",
    "warnings.filterwarnings(\"ignore\")\n",
    "\n",
    "import numpy as np\n",
    "import pandas as pd\n",
    "\n",
    "import matplotlib.pyplot as plt\n",
    "import seaborn as sns\n",
    "plot_kwds = {'alpha' : 0.25, 's' : 10, 'linewidths':0}\n",
    "from pylab import rcParams\n",
    "\n",
    "import time\n",
    "\n",
    "rcParams['figure.figsize'] = 14,6\n",
    "\n",
    "plt.style.use('ggplot')\n",
    "\n",
    "\n",
    "%matplotlib inline"
   ]
  },
  {
   "cell_type": "code",
   "execution_count": 2,
   "id": "6f624bf5",
   "metadata": {},
   "outputs": [],
   "source": [
    "df = pd.read_csv('BaynesSoundMooring_5mbss_ConductivityTemperatureDepth_20200117T030000Z_20200119T235959Z-NaN.csv',skipinitialspace=True)\n",
    "df.rename(columns={df.columns[0]: 'UTC time', df.columns[1]: 'Conductivity',df.columns[15]: 'Temperature'},inplace=True)\n",
    "X = df[['Conductivity','Temperature']].values"
   ]
  },
  {
   "cell_type": "code",
   "execution_count": 3,
   "id": "eae13e68",
   "metadata": {},
   "outputs": [],
   "source": [
    "from sklearn.preprocessing import StandardScaler, normalize\n",
    "from sklearn.decomposition import PCA\n",
    "\n",
    "# Standardize data\n",
    "scaler = StandardScaler() \n",
    "scaled_df = scaler.fit_transform(X) \n",
    "  \n",
    "# Normalizing the Data \n",
    "normalized_df = normalize(scaled_df) \n",
    "  \n",
    "# Converting the numpy array into a pandas DataFrame \n",
    "normalized_df = pd.DataFrame(normalized_df) \n",
    "  \n",
    "# Reducing the dimensions of the data \n",
    "pca = PCA(n_components = 2) \n",
    "X_principal = pca.fit_transform(normalized_df) \n",
    "X_principal = pd.DataFrame(X_principal) "
   ]
  },
  {
   "cell_type": "code",
   "execution_count": 4,
   "id": "dc88dc3c",
   "metadata": {},
   "outputs": [
    {
     "name": "stdout",
     "output_type": "stream",
     "text": [
      "Selected GMM: full model, 6 components\n"
     ]
    }
   ],
   "source": [
    "from sklearn import mixture\n",
    "bic = []\n",
    "lowest_bic = np.infty\n",
    "\n",
    "n_components_range = range(1, 7)\n",
    "cv_types = [\"spherical\", \"tied\", \"diag\", \"full\"]\n",
    "for cv_type in cv_types:\n",
    "    for n_components in n_components_range:\n",
    "        # Fit a Gaussian mixture with EM\n",
    "        gmm = mixture.GaussianMixture(\n",
    "            n_components=n_components, covariance_type=cv_type\n",
    "        )\n",
    "        gmm.fit(X_principal)\n",
    "        bic.append(gmm.bic(X_principal))\n",
    "        if bic[-1] < lowest_bic:\n",
    "            lowest_bic = bic[-1]\n",
    "            best_gmm = gmm\n",
    "            \n",
    "print(\n",
    "    f\"Selected GMM: {best_gmm.covariance_type} model, \"\n",
    "    f\"{best_gmm.n_components} components\"\n",
    ")"
   ]
  },
  {
   "cell_type": "code",
   "execution_count": 5,
   "id": "b15b1f2f",
   "metadata": {},
   "outputs": [
    {
     "name": "stdout",
     "output_type": "stream",
     "text": [
      "Training time = 2.9630820751190186\n"
     ]
    }
   ],
   "source": [
    "gmm_model = mixture.GaussianMixture(n_components=6, covariance_type='full')\n",
    "\n",
    "s1 = time.time()\n",
    "\n",
    "y_gm = gmm_model.fit(X_principal)\n",
    "\n",
    "e1 = time.time()\n",
    "print(\"Training time = {}\".format(e1 - s1))"
   ]
  },
  {
   "cell_type": "code",
   "execution_count": 6,
   "id": "b4f0c9e7",
   "metadata": {},
   "outputs": [
    {
     "data": {
      "text/plain": [
       "1    106716\n",
       "0     39784\n",
       "2     31880\n",
       "4     26558\n",
       "3     26434\n",
       "5     14032\n",
       "Name: cluster, dtype: int64"
      ]
     },
     "execution_count": 6,
     "metadata": {},
     "output_type": "execute_result"
    }
   ],
   "source": [
    "labels = y_gm.predict(X_principal)\n",
    "frame = pd.DataFrame(X_principal)\n",
    "frame['cluster'] = labels\n",
    "frame['cluster'].value_counts()"
   ]
  },
  {
   "cell_type": "code",
   "execution_count": 7,
   "id": "b3db4a3d",
   "metadata": {},
   "outputs": [
    {
     "data": {
      "image/png": "[encoded data removed]",
      "text/plain": [
       "<Figure size 432x288 with 1 Axes>"
      ]
     },
     "metadata": {
      "needs_background": "light"
     },
     "output_type": "display_data"
    }
   ],
   "source": [
    "# Visualizing the clustering \n",
    "plt.scatter(X_principal[0], X_principal[1],  \n",
    "           c = labels, cmap =plt.cm.winter, alpha = 0.6) \n",
    "plt.show() "
   ]
  },
  {
   "cell_type": "code",
   "execution_count": 8,
   "id": "4ed2d461",
   "metadata": {},
   "outputs": [
    {
     "data": {
      "image/png": "[encoded data removed]",
      "text/plain": [
       "<Figure size 432x288 with 1 Axes>"
      ]
     },
     "metadata": {
      "needs_background": "light"
     },
     "output_type": "display_data"
    }
   ],
   "source": [
    "# Visualizing the clustering \n",
    "plt.scatter(X_principal[0], X_principal[1],  \n",
    "           c = labels) \n",
    "plt.show() "
   ]
  },
  {
   "cell_type": "code",
   "execution_count": null,
   "id": "93368ff0",
   "metadata": {},
   "outputs": [],
   "source": []
  }
 ],
 "metadata": {
  "kernelspec": {
   "display_name": "Python 3",
   "language": "python",
   "name": "python3"
  },
  "language_info": {
   "codemirror_mode": {
    "name": "ipython",
    "version": 3
   },
   "file_extension": ".py",
   "mimetype": "text/x-python",
   "name": "python",
   "nbconvert_exporter": "python",
   "pygments_lexer": "ipython3",
   "version": "3.7.10"
  }
 },
 "nbformat": 4,
 "nbformat_minor": 5
}
