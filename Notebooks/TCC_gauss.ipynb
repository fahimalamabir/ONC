{
 "cells": [
  {
   "cell_type": "code",
   "execution_count": 1,
   "id": "35e60f11",
   "metadata": {},
   "outputs": [],
   "source": [
    "import warnings\n",
    "warnings.filterwarnings(\"ignore\")\n",
    "\n",
    "import numpy as np\n",
    "import pandas as pd\n",
    "\n",
    "import matplotlib.pyplot as plt\n",
    "import seaborn as sns\n",
    "plot_kwds = {'alpha' : 0.25, 's' : 10, 'linewidths':0}\n",
    "from pylab import rcParams\n",
    "\n",
    "import time\n",
    "\n",
    "rcParams['figure.figsize'] = 14,6\n",
    "\n",
    "plt.style.use('ggplot')\n",
    "\n",
    "\n",
    "%matplotlib inline"
   ]
  },
  {
   "cell_type": "markdown",
   "id": "dd7e35aa",
   "metadata": {},
   "source": [
    "#### 7 days"
   ]
  },
  {
   "cell_type": "code",
   "execution_count": 2,
   "id": "6f624bf5",
   "metadata": {},
   "outputs": [],
   "source": [
    "df = pd.read_csv('BaynesSoundMooring_5mbss_ConductivityTemperatureDepth_20200117T030000Z_20200119T235959Z-NaN.csv',skipinitialspace=True)\n",
    "df.rename(columns={df.columns[0]: 'UTC time', df.columns[1]: 'Conductivity',df.columns[15]: 'Temperature'},inplace=True)\n",
    "X = df[['Conductivity','Temperature']].values"
   ]
  },
  {
   "cell_type": "code",
   "execution_count": 3,
   "id": "eae13e68",
   "metadata": {},
   "outputs": [],
   "source": [
    "from sklearn.preprocessing import StandardScaler, normalize\n",
    "from sklearn.decomposition import PCA\n",
    "\n",
    "# Standardize data\n",
    "scaler = StandardScaler() \n",
    "scaled_df = scaler.fit_transform(X) \n",
    "  \n",
    "# Normalizing the Data \n",
    "normalized_df = normalize(scaled_df) \n",
    "  \n",
    "# Converting the numpy array into a pandas DataFrame \n",
    "normalized_df = pd.DataFrame(normalized_df) \n",
    "  \n",
    "# Reducing the dimensions of the data \n",
    "pca = PCA(n_components = 2) \n",
    "X_principal = pca.fit_transform(normalized_df) \n",
    "X_principal = pd.DataFrame(X_principal) "
   ]
  },
  {
   "cell_type": "code",
   "execution_count": 4,
   "id": "dc88dc3c",
   "metadata": {},
   "outputs": [
    {
     "name": "stdout",
     "output_type": "stream",
     "text": [
      "Selected GMM: full model, 6 components\n"
     ]
    }
   ],
   "source": [
    "from sklearn import mixture\n",
    "bic = []\n",
    "lowest_bic = np.infty\n",
    "\n",
    "n_components_range = range(1, 7)\n",
    "cv_types = [\"spherical\", \"tied\", \"diag\", \"full\"]\n",
    "for cv_type in cv_types:\n",
    "    for n_components in n_components_range:\n",
    "        # Fit a Gaussian mixture with EM\n",
    "        gmm = mixture.GaussianMixture(\n",
    "            n_components=n_components, covariance_type=cv_type\n",
    "        )\n",
    "        gmm.fit(X_principal)\n",
    "        bic.append(gmm.bic(X_principal))\n",
    "        if bic[-1] < lowest_bic:\n",
    "            lowest_bic = bic[-1]\n",
    "            best_gmm = gmm\n",
    "            \n",
    "print(\n",
    "    f\"Selected GMM: {best_gmm.covariance_type} model, \"\n",
    "    f\"{best_gmm.n_components} components\"\n",
    ")"
   ]
  },
  {
   "cell_type": "code",
   "execution_count": 5,
   "id": "b15b1f2f",
   "metadata": {},
   "outputs": [
    {
     "name": "stdout",
     "output_type": "stream",
     "text": [
      "Training time = 26.44744873046875\n"
     ]
    }
   ],
   "source": [
    "gmm_model = mixture.GaussianMixture(n_components=6, covariance_type='full')\n",
    "\n",
    "s1 = time.time()\n",
    "\n",
    "y_gm = gmm_model.fit(X_principal)\n",
    "\n",
    "e1 = time.time()\n",
    "print(\"Training time = {}\".format(e1 - s1))"
   ]
  },
  {
   "cell_type": "code",
   "execution_count": 6,
   "id": "b4f0c9e7",
   "metadata": {},
   "outputs": [
    {
     "data": {
      "text/plain": [
       "1    58186\n",
       "5    55186\n",
       "3    39782\n",
       "4    33810\n",
       "0    31886\n",
       "2    26554\n",
       "Name: cluster, dtype: int64"
      ]
     },
     "execution_count": 6,
     "metadata": {},
     "output_type": "execute_result"
    }
   ],
   "source": [
    "labels = y_gm.predict(X_principal)\n",
    "frame = pd.DataFrame(X_principal)\n",
    "frame['cluster'] = labels\n",
    "frame['cluster'].value_counts()"
   ]
  },
  {
   "cell_type": "code",
   "execution_count": 7,
   "id": "b3db4a3d",
   "metadata": {},
   "outputs": [
    {
     "data": {
      "image/png": "[encoded data removed]",
      "text/plain": [
       "<Figure size 432x288 with 1 Axes>"
      ]
     },
     "metadata": {
      "needs_background": "light"
     },
     "output_type": "display_data"
    }
   ],
   "source": [
    "# Visualizing the clustering \n",
    "plt.scatter(X[:,0], X[:,1],  \n",
    "           c = labels, cmap =plt.cm.winter, alpha = 0.6) \n",
    "plt.show() "
   ]
  },
  {
   "cell_type": "markdown",
   "id": "0843604d",
   "metadata": {},
   "source": [
    "#### 14 days"
   ]
  },
  {
   "cell_type": "code",
   "execution_count": 8,
   "id": "cd8498e2",
   "metadata": {},
   "outputs": [],
   "source": [
    "df = pd.read_csv('BaynesSoundMooring_40mbss_ConductivityTemperatureDepth_20200305T000000Z_20200313T210509Z-NaN.csv',skipinitialspace=True)\n",
    "df.rename(columns={df.columns[0]: 'UTC time', df.columns[1]: 'Conductivity',df.columns[15]: 'Temperature'},inplace=True)\n",
    "X = df[['Conductivity','Temperature']].values"
   ]
  },
  {
   "cell_type": "code",
   "execution_count": 9,
   "id": "8bc21fee",
   "metadata": {},
   "outputs": [],
   "source": [
    "from sklearn.preprocessing import StandardScaler, normalize\n",
    "from sklearn.decomposition import PCA\n",
    "\n",
    "# Standardize data\n",
    "scaler = StandardScaler() \n",
    "scaled_df = scaler.fit_transform(X) \n",
    "  \n",
    "# Normalizing the Data \n",
    "normalized_df = normalize(scaled_df) \n",
    "  \n",
    "# Converting the numpy array into a pandas DataFrame \n",
    "normalized_df = pd.DataFrame(normalized_df) \n",
    "  \n",
    "# Reducing the dimensions of the data \n",
    "pca = PCA(n_components = 2) \n",
    "X_principal = pca.fit_transform(normalized_df) \n",
    "X_principal = pd.DataFrame(X_principal) "
   ]
  },
  {
   "cell_type": "code",
   "execution_count": 10,
   "id": "05e06123",
   "metadata": {},
   "outputs": [
    {
     "name": "stdout",
     "output_type": "stream",
     "text": [
      "Selected GMM: full model, 6 components\n"
     ]
    }
   ],
   "source": [
    "from sklearn import mixture\n",
    "bic = []\n",
    "lowest_bic = np.infty\n",
    "\n",
    "n_components_range = range(1, 7)\n",
    "cv_types = [\"spherical\", \"tied\", \"diag\", \"full\"]\n",
    "for cv_type in cv_types:\n",
    "    for n_components in n_components_range:\n",
    "        # Fit a Gaussian mixture with EM\n",
    "        gmm = mixture.GaussianMixture(\n",
    "            n_components=n_components, covariance_type=cv_type\n",
    "        )\n",
    "        gmm.fit(X_principal)\n",
    "        bic.append(gmm.bic(X_principal))\n",
    "        if bic[-1] < lowest_bic:\n",
    "            lowest_bic = bic[-1]\n",
    "            best_gmm = gmm\n",
    "            \n",
    "print(\n",
    "    f\"Selected GMM: {best_gmm.covariance_type} model, \"\n",
    "    f\"{best_gmm.n_components} components\"\n",
    ")"
   ]
  },
  {
   "cell_type": "code",
   "execution_count": 11,
   "id": "39b7a03a",
   "metadata": {},
   "outputs": [
    {
     "name": "stdout",
     "output_type": "stream",
     "text": [
      "Training time = 34.06992030143738\n"
     ]
    }
   ],
   "source": [
    "gmm_model = mixture.GaussianMixture(n_components=6, covariance_type='full')\n",
    "\n",
    "s1 = time.time()\n",
    "\n",
    "y_gm = gmm_model.fit(X_principal)\n",
    "\n",
    "e1 = time.time()\n",
    "print(\"Training time = {}\".format(e1 - s1))"
   ]
  },
  {
   "cell_type": "code",
   "execution_count": 12,
   "id": "f2db7e4e",
   "metadata": {},
   "outputs": [
    {
     "data": {
      "text/plain": [
       "0    252216\n",
       "1    217112\n",
       "5    104058\n",
       "3     75353\n",
       "4     72594\n",
       "2     32971\n",
       "Name: cluster, dtype: int64"
      ]
     },
     "execution_count": 12,
     "metadata": {},
     "output_type": "execute_result"
    }
   ],
   "source": [
    "labels = y_gm.predict(X_principal)\n",
    "frame = pd.DataFrame(X_principal)\n",
    "frame['cluster'] = labels\n",
    "frame['cluster'].value_counts()"
   ]
  },
  {
   "cell_type": "code",
   "execution_count": 13,
   "id": "563bdb2e",
   "metadata": {},
   "outputs": [
    {
     "data": {
      "image/png": "[encoded data removed]",
      "text/plain": [
       "<Figure size 432x288 with 1 Axes>"
      ]
     },
     "metadata": {
      "needs_background": "light"
     },
     "output_type": "display_data"
    }
   ],
   "source": [
    "# Visualizing the clustering \n",
    "plt.scatter(X[:,0], X[:,1],  \n",
    "           c = labels, cmap =plt.cm.winter, alpha = 0.6) \n",
    "plt.show() "
   ]
  },
  {
   "cell_type": "code",
   "execution_count": null,
   "id": "f25bf1b1",
   "metadata": {},
   "outputs": [],
   "source": []
  }
 ],
 "metadata": {
  "kernelspec": {
   "display_name": "Python 3 (ipykernel)",
   "language": "python",
   "name": "python3"
  },
  "language_info": {
   "codemirror_mode": {
    "name": "ipython",
    "version": 3
   },
   "file_extension": ".py",
   "mimetype": "text/x-python",
   "name": "python",
   "nbconvert_exporter": "python",
   "pygments_lexer": "ipython3",
   "version": "3.10.0"
  }
 },
 "nbformat": 4,
 "nbformat_minor": 5
}
