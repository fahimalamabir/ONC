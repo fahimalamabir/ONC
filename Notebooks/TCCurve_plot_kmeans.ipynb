{
 "cells": [
  {
   "cell_type": "code",
   "execution_count": 2,
   "metadata": {},
   "outputs": [],
   "source": [
    "import pandas as pd\n",
    "#import pandas.DataFrame as df\n",
    "import matplotlib.pyplot as plt\n",
    "from datetime import datetime as dt"
   ]
  },
  {
   "cell_type": "code",
   "execution_count": 40,
   "metadata": {},
   "outputs": [
    {
     "data": {
      "text/html": [
       "<div>\n",
       "<style scoped>\n",
       "    .dataframe tbody tr th:only-of-type {\n",
       "        vertical-align: middle;\n",
       "    }\n",
       "\n",
       "    .dataframe tbody tr th {\n",
       "        vertical-align: top;\n",
       "    }\n",
       "\n",
       "    .dataframe thead th {\n",
       "        text-align: right;\n",
       "    }\n",
       "</style>\n",
       "<table border=\"1\" class=\"dataframe\">\n",
       "  <thead>\n",
       "    <tr style=\"text-align: right;\">\n",
       "      <th></th>\n",
       "      <th>#\"Time UTC (yyyy-mm-ddThh:mm:ss.fffZ)\"</th>\n",
       "      <th>Conductivity (S/m)</th>\n",
       "      <th>Conductivity QC Flag</th>\n",
       "      <th>Density (kg/m3)</th>\n",
       "      <th>Density QC Flag</th>\n",
       "      <th>Practical Salinity (psu)</th>\n",
       "      <th>Practical Salinity QC Flag</th>\n",
       "      <th>Pressure (decibar)</th>\n",
       "      <th>Pressure QC Flag</th>\n",
       "      <th>Sigma-t (kg/m3)</th>\n",
       "      <th>Sigma-t QC Flag</th>\n",
       "      <th>Sigma-theta (0 dbar) (kg/m3)</th>\n",
       "      <th>Sigma-theta (0 dbar) QC Flag</th>\n",
       "      <th>Sound Speed (m/s)</th>\n",
       "      <th>Sound Speed QC Flag</th>\n",
       "      <th>Temperature (C)</th>\n",
       "      <th>Temperature QC Flag</th>\n",
       "    </tr>\n",
       "  </thead>\n",
       "  <tbody>\n",
       "    <tr>\n",
       "      <td>0</td>\n",
       "      <td>2020-01-19T00:00:00.651Z</td>\n",
       "      <td>2.79234</td>\n",
       "      <td>1</td>\n",
       "      <td>1020.797925</td>\n",
       "      <td>1</td>\n",
       "      <td>26.6340</td>\n",
       "      <td>1</td>\n",
       "      <td>4.519</td>\n",
       "      <td>1</td>\n",
       "      <td>20.776972</td>\n",
       "      <td>1</td>\n",
       "      <td>20.777019</td>\n",
       "      <td>1</td>\n",
       "      <td>1470.222</td>\n",
       "      <td>1</td>\n",
       "      <td>7.4917</td>\n",
       "      <td>1</td>\n",
       "    </tr>\n",
       "    <tr>\n",
       "      <td>1</td>\n",
       "      <td>2020-01-19T00:00:01.678Z</td>\n",
       "      <td>2.79229</td>\n",
       "      <td>1</td>\n",
       "      <td>1020.797636</td>\n",
       "      <td>1</td>\n",
       "      <td>26.6337</td>\n",
       "      <td>1</td>\n",
       "      <td>4.502</td>\n",
       "      <td>1</td>\n",
       "      <td>20.776762</td>\n",
       "      <td>1</td>\n",
       "      <td>20.776809</td>\n",
       "      <td>1</td>\n",
       "      <td>1470.221</td>\n",
       "      <td>1</td>\n",
       "      <td>7.4915</td>\n",
       "      <td>1</td>\n",
       "    </tr>\n",
       "    <tr>\n",
       "      <td>2</td>\n",
       "      <td>2020-01-19T00:00:02.692Z</td>\n",
       "      <td>2.79241</td>\n",
       "      <td>1</td>\n",
       "      <td>1020.798268</td>\n",
       "      <td>1</td>\n",
       "      <td>26.6350</td>\n",
       "      <td>1</td>\n",
       "      <td>4.413</td>\n",
       "      <td>1</td>\n",
       "      <td>20.777807</td>\n",
       "      <td>1</td>\n",
       "      <td>20.777852</td>\n",
       "      <td>1</td>\n",
       "      <td>1470.220</td>\n",
       "      <td>1</td>\n",
       "      <td>7.4913</td>\n",
       "      <td>1</td>\n",
       "    </tr>\n",
       "    <tr>\n",
       "      <td>3</td>\n",
       "      <td>2020-01-19T00:00:03.706Z</td>\n",
       "      <td>2.79257</td>\n",
       "      <td>1</td>\n",
       "      <td>1020.800087</td>\n",
       "      <td>1</td>\n",
       "      <td>26.6366</td>\n",
       "      <td>1</td>\n",
       "      <td>4.540</td>\n",
       "      <td>1</td>\n",
       "      <td>20.779037</td>\n",
       "      <td>1</td>\n",
       "      <td>20.779084</td>\n",
       "      <td>1</td>\n",
       "      <td>1470.225</td>\n",
       "      <td>1</td>\n",
       "      <td>7.4915</td>\n",
       "      <td>1</td>\n",
       "    </tr>\n",
       "    <tr>\n",
       "      <td>4</td>\n",
       "      <td>2020-01-19T00:00:04.720Z</td>\n",
       "      <td>2.79265</td>\n",
       "      <td>1</td>\n",
       "      <td>1020.800668</td>\n",
       "      <td>1</td>\n",
       "      <td>26.6376</td>\n",
       "      <td>1</td>\n",
       "      <td>4.488</td>\n",
       "      <td>1</td>\n",
       "      <td>20.779859</td>\n",
       "      <td>1</td>\n",
       "      <td>20.779905</td>\n",
       "      <td>1</td>\n",
       "      <td>1470.224</td>\n",
       "      <td>1</td>\n",
       "      <td>7.4912</td>\n",
       "      <td>1</td>\n",
       "    </tr>\n",
       "    <tr>\n",
       "      <td>...</td>\n",
       "      <td>...</td>\n",
       "      <td>...</td>\n",
       "      <td>...</td>\n",
       "      <td>...</td>\n",
       "      <td>...</td>\n",
       "      <td>...</td>\n",
       "      <td>...</td>\n",
       "      <td>...</td>\n",
       "      <td>...</td>\n",
       "      <td>...</td>\n",
       "      <td>...</td>\n",
       "      <td>...</td>\n",
       "      <td>...</td>\n",
       "      <td>...</td>\n",
       "      <td>...</td>\n",
       "      <td>...</td>\n",
       "      <td>...</td>\n",
       "    </tr>\n",
       "    <tr>\n",
       "      <td>85804</td>\n",
       "      <td>2020-01-19T23:59:55.895Z</td>\n",
       "      <td>3.03674</td>\n",
       "      <td>1</td>\n",
       "      <td>1022.570796</td>\n",
       "      <td>1</td>\n",
       "      <td>28.9476</td>\n",
       "      <td>1</td>\n",
       "      <td>4.511</td>\n",
       "      <td>1</td>\n",
       "      <td>22.549990</td>\n",
       "      <td>1</td>\n",
       "      <td>22.550044</td>\n",
       "      <td>1</td>\n",
       "      <td>1474.339</td>\n",
       "      <td>1</td>\n",
       "      <td>7.8136</td>\n",
       "      <td>1</td>\n",
       "    </tr>\n",
       "    <tr>\n",
       "      <td>85805</td>\n",
       "      <td>2020-01-19T23:59:56.901Z</td>\n",
       "      <td>3.03690</td>\n",
       "      <td>1</td>\n",
       "      <td>1022.572271</td>\n",
       "      <td>1</td>\n",
       "      <td>28.9496</td>\n",
       "      <td>1</td>\n",
       "      <td>4.479</td>\n",
       "      <td>1</td>\n",
       "      <td>22.551612</td>\n",
       "      <td>1</td>\n",
       "      <td>22.551665</td>\n",
       "      <td>1</td>\n",
       "      <td>1474.340</td>\n",
       "      <td>1</td>\n",
       "      <td>7.8132</td>\n",
       "      <td>1</td>\n",
       "    </tr>\n",
       "    <tr>\n",
       "      <td>85806</td>\n",
       "      <td>2020-01-19T23:59:57.908Z</td>\n",
       "      <td>3.03654</td>\n",
       "      <td>1</td>\n",
       "      <td>1022.569346</td>\n",
       "      <td>1</td>\n",
       "      <td>28.9458</td>\n",
       "      <td>1</td>\n",
       "      <td>4.491</td>\n",
       "      <td>1</td>\n",
       "      <td>22.548632</td>\n",
       "      <td>1</td>\n",
       "      <td>22.548685</td>\n",
       "      <td>1</td>\n",
       "      <td>1474.335</td>\n",
       "      <td>1</td>\n",
       "      <td>7.8132</td>\n",
       "      <td>1</td>\n",
       "    </tr>\n",
       "    <tr>\n",
       "      <td>85807</td>\n",
       "      <td>2020-01-19T23:59:58.914Z</td>\n",
       "      <td>3.03658</td>\n",
       "      <td>1</td>\n",
       "      <td>1022.569980</td>\n",
       "      <td>1</td>\n",
       "      <td>28.9468</td>\n",
       "      <td>1</td>\n",
       "      <td>4.441</td>\n",
       "      <td>1</td>\n",
       "      <td>22.549496</td>\n",
       "      <td>1</td>\n",
       "      <td>22.549549</td>\n",
       "      <td>1</td>\n",
       "      <td>1474.333</td>\n",
       "      <td>1</td>\n",
       "      <td>7.8126</td>\n",
       "      <td>1</td>\n",
       "    </tr>\n",
       "    <tr>\n",
       "      <td>85808</td>\n",
       "      <td>2020-01-19T23:59:59.920Z</td>\n",
       "      <td>3.03650</td>\n",
       "      <td>1</td>\n",
       "      <td>1022.569358</td>\n",
       "      <td>1</td>\n",
       "      <td>28.9459</td>\n",
       "      <td>1</td>\n",
       "      <td>4.462</td>\n",
       "      <td>1</td>\n",
       "      <td>22.548777</td>\n",
       "      <td>1</td>\n",
       "      <td>22.548830</td>\n",
       "      <td>1</td>\n",
       "      <td>1474.333</td>\n",
       "      <td>1</td>\n",
       "      <td>7.8127</td>\n",
       "      <td>1</td>\n",
       "    </tr>\n",
       "  </tbody>\n",
       "</table>\n",
       "<p>85809 rows × 17 columns</p>\n",
       "</div>"
      ],
      "text/plain": [
       "      #\"Time UTC (yyyy-mm-ddThh:mm:ss.fffZ)\"  Conductivity (S/m)  \\\n",
       "0                   2020-01-19T00:00:00.651Z             2.79234   \n",
       "1                   2020-01-19T00:00:01.678Z             2.79229   \n",
       "2                   2020-01-19T00:00:02.692Z             2.79241   \n",
       "3                   2020-01-19T00:00:03.706Z             2.79257   \n",
       "4                   2020-01-19T00:00:04.720Z             2.79265   \n",
       "...                                      ...                 ...   \n",
       "85804               2020-01-19T23:59:55.895Z             3.03674   \n",
       "85805               2020-01-19T23:59:56.901Z             3.03690   \n",
       "85806               2020-01-19T23:59:57.908Z             3.03654   \n",
       "85807               2020-01-19T23:59:58.914Z             3.03658   \n",
       "85808               2020-01-19T23:59:59.920Z             3.03650   \n",
       "\n",
       "       Conductivity QC Flag    Density (kg/m3)  Density QC Flag    \\\n",
       "0                           1      1020.797925                  1   \n",
       "1                           1      1020.797636                  1   \n",
       "2                           1      1020.798268                  1   \n",
       "3                           1      1020.800087                  1   \n",
       "4                           1      1020.800668                  1   \n",
       "...                       ...              ...                ...   \n",
       "85804                       1      1022.570796                  1   \n",
       "85805                       1      1022.572271                  1   \n",
       "85806                       1      1022.569346                  1   \n",
       "85807                       1      1022.569980                  1   \n",
       "85808                       1      1022.569358                  1   \n",
       "\n",
       "       Practical Salinity (psu)  Practical Salinity QC Flag    \\\n",
       "0                       26.6340                             1   \n",
       "1                       26.6337                             1   \n",
       "2                       26.6350                             1   \n",
       "3                       26.6366                             1   \n",
       "4                       26.6376                             1   \n",
       "...                         ...                           ...   \n",
       "85804                   28.9476                             1   \n",
       "85805                   28.9496                             1   \n",
       "85806                   28.9458                             1   \n",
       "85807                   28.9468                             1   \n",
       "85808                   28.9459                             1   \n",
       "\n",
       "       Pressure (decibar)  Pressure QC Flag    Sigma-t (kg/m3)  \\\n",
       "0                   4.519                   1        20.776972   \n",
       "1                   4.502                   1        20.776762   \n",
       "2                   4.413                   1        20.777807   \n",
       "3                   4.540                   1        20.779037   \n",
       "4                   4.488                   1        20.779859   \n",
       "...                   ...                 ...              ...   \n",
       "85804               4.511                   1        22.549990   \n",
       "85805               4.479                   1        22.551612   \n",
       "85806               4.491                   1        22.548632   \n",
       "85807               4.441                   1        22.549496   \n",
       "85808               4.462                   1        22.548777   \n",
       "\n",
       "       Sigma-t QC Flag    Sigma-theta (0 dbar) (kg/m3)  \\\n",
       "0                      1                     20.777019   \n",
       "1                      1                     20.776809   \n",
       "2                      1                     20.777852   \n",
       "3                      1                     20.779084   \n",
       "4                      1                     20.779905   \n",
       "...                  ...                           ...   \n",
       "85804                  1                     22.550044   \n",
       "85805                  1                     22.551665   \n",
       "85806                  1                     22.548685   \n",
       "85807                  1                     22.549549   \n",
       "85808                  1                     22.548830   \n",
       "\n",
       "       Sigma-theta (0 dbar) QC Flag    Sound Speed (m/s)  \\\n",
       "0                                   1           1470.222   \n",
       "1                                   1           1470.221   \n",
       "2                                   1           1470.220   \n",
       "3                                   1           1470.225   \n",
       "4                                   1           1470.224   \n",
       "...                               ...                ...   \n",
       "85804                               1           1474.339   \n",
       "85805                               1           1474.340   \n",
       "85806                               1           1474.335   \n",
       "85807                               1           1474.333   \n",
       "85808                               1           1474.333   \n",
       "\n",
       "       Sound Speed QC Flag    Temperature (C)  Temperature QC Flag    \n",
       "0                          1           7.4917                      1  \n",
       "1                          1           7.4915                      1  \n",
       "2                          1           7.4913                      1  \n",
       "3                          1           7.4915                      1  \n",
       "4                          1           7.4912                      1  \n",
       "...                      ...              ...                    ...  \n",
       "85804                      1           7.8136                      1  \n",
       "85805                      1           7.8132                      1  \n",
       "85806                      1           7.8132                      1  \n",
       "85807                      1           7.8126                      1  \n",
       "85808                      1           7.8127                      1  \n",
       "\n",
       "[85809 rows x 17 columns]"
      ]
     },
     "execution_count": 40,
     "metadata": {},
     "output_type": "execute_result"
    }
   ],
   "source": [
    "#df = pd.read_csv('/home/drew/onc/AGUFM2020_poster/code_working/BaynesSoundMooring_40mbss_ConductivityTemperatureDepth_20200106T193330Z_20200111T235959Z.csv')\n",
    "#df = pd.read_csv('/home/drew/onc/AGUFM2020_poster/code_working/BaynesSoundMooring_40mbss_ConductivityTemperatureDepth_20200106T193330Z_20200111T235959Z.csv',skipinitialspace=True)\n",
    "#df\n",
    "\n",
    "fn = 'BaynesSoundMooring_40mbss_ConductivityTemperatureDepth_20200109T000000Z_20200109T235959Z.csv'\n",
    "fn = 'BaynesSoundMooring_20mbss_ConductivityTemperatureDepth_20200110T000000Z_20200110T235959Z.csv'\n",
    "fn = 'BaynesSoundMooring_5mbss_ConductivityTemperatureDepth_20200119T000000Z_20200119T235959Z.csv'\n",
    "dfall = pd.read_csv('dat\\\\'+fn,skipinitialspace=True)\n",
    "df = dfall\n",
    "df"
   ]
  },
  {
   "cell_type": "code",
   "execution_count": 41,
   "metadata": {},
   "outputs": [
    {
     "data": {
      "text/plain": [
       "'Conductivity (S/m)'"
      ]
     },
     "execution_count": 41,
     "metadata": {},
     "output_type": "execute_result"
    }
   ],
   "source": [
    "df.columns[1]"
   ]
  },
  {
   "cell_type": "code",
   "execution_count": 42,
   "metadata": {},
   "outputs": [
    {
     "data": {
      "text/plain": [
       "'Temperature (C)'"
      ]
     },
     "execution_count": 42,
     "metadata": {},
     "output_type": "execute_result"
    }
   ],
   "source": [
    "df.columns[15]"
   ]
  },
  {
   "cell_type": "code",
   "execution_count": 43,
   "metadata": {},
   "outputs": [
    {
     "data": {
      "text/plain": [
       "'#\"Time UTC (yyyy-mm-ddThh:mm:ss.fffZ)\"'"
      ]
     },
     "execution_count": 43,
     "metadata": {},
     "output_type": "execute_result"
    }
   ],
   "source": [
    "df.columns[0]"
   ]
  },
  {
   "cell_type": "code",
   "execution_count": 44,
   "metadata": {},
   "outputs": [
    {
     "data": {
      "image/png": "[encoded data removed]",
      "text/plain": [
       "<Figure size 720x720 with 1 Axes>"
      ]
     },
     "metadata": {
      "needs_background": "light"
     },
     "output_type": "display_data"
    }
   ],
   "source": [
    "fig = df.plot.scatter(x='Conductivity (S/m)',y='Temperature (C)',figsize=(10,10))"
   ]
  },
  {
   "cell_type": "code",
   "execution_count": 45,
   "metadata": {},
   "outputs": [],
   "source": [
    "#!pip install kmeans-pytorch"
   ]
  },
  {
   "cell_type": "code",
   "execution_count": 46,
   "metadata": {},
   "outputs": [],
   "source": [
    "import torch\n",
    "import numpy as np\n",
    "from kmeans_pytorch import kmeans"
   ]
  },
  {
   "cell_type": "code",
   "execution_count": 47,
   "metadata": {},
   "outputs": [
    {
     "data": {
      "text/plain": [
       "tensor([[2.7923, 7.4917],\n",
       "        [2.7923, 7.4915],\n",
       "        [2.7924, 7.4913],\n",
       "        ...,\n",
       "        [3.0365, 7.8132],\n",
       "        [3.0366, 7.8126],\n",
       "        [3.0365, 7.8127]], dtype=torch.float64)"
      ]
     },
     "execution_count": 47,
     "metadata": {},
     "output_type": "execute_result"
    }
   ],
   "source": [
    "# data\n",
    "#data_size, dims, num_clusters = 1000, 2, 3\n",
    "#xnp = np.random.randn(data_size, dims) / 6\n",
    "#x = torch.from_numpy(xnp)\n",
    "\n",
    "num_clusters = 2\n",
    "tt = torch.as_tensor(df[['Conductivity (S/m)','Temperature (C)']].to_numpy())\n",
    "#x = torch.from_numpy(df.values)\n",
    "#torch_tensor = torch.tensor(targets_df['targets'].values) # coerce to array applying .values\n",
    "#type(df['Conductivity (S/m)'].values) # coerce to array applying .values\n",
    "#torch_tensor = torch.tensor(df['Conductivity (S/m)'].values.astype(np.float64))\n",
    "#type(df[['Conductivity (S/m)','Temperature (C)']]) # pandas.core.frame.DataFrame\n",
    "#df[['Conductivity (S/m)','Temperature (C)']].to_numpy()\n",
    "#type(xnp)\n",
    "tt\n"
   ]
  },
  {
   "cell_type": "code",
   "execution_count": 48,
   "metadata": {},
   "outputs": [
    {
     "name": "stdout",
     "output_type": "stream",
     "text": [
      "running k-means on cpu..\n"
     ]
    },
    {
     "name": "stderr",
     "output_type": "stream",
     "text": [
      "[running kmeans]: 5it [00:00, 34.24it/s, center_shift=0.000078, iteration=5, tol=0.000100]\n"
     ]
    }
   ],
   "source": [
    "# kmeans\n",
    "cluster_ids_x, cluster_centers = kmeans(\n",
    "    X=tt, num_clusters=num_clusters, distance='euclidean'\n",
    ")"
   ]
  },
  {
   "cell_type": "code",
   "execution_count": 51,
   "metadata": {},
   "outputs": [
    {
     "data": {
      "image/png": "[encoded data removed]",
      "text/plain": [
       "<Figure size 800x800 with 1 Axes>"
      ]
     },
     "metadata": {
      "needs_background": "light"
     },
     "output_type": "display_data"
    }
   ],
   "source": [
    "# plot\n",
    "plt.figure(figsize=(5,5), dpi=160)\n",
    "plt.scatter(tt[:, 0], tt[:, 1], c=cluster_ids_x, cmap='flag')\n",
    "#plt.scatter(y[:, 0], y[:, 1], c=cluster_ids_y, cmap='cool', marker='X')\n",
    "plt.scatter(\n",
    "    cluster_centers[:, 0], cluster_centers[:, 1],\n",
    "    c='white',\n",
    "    alpha=0.6,\n",
    "    edgecolors='black',\n",
    "    linewidths=2\n",
    ")\n",
    "#plt.axis([-1, 1, -1, 1])\n",
    "plt.ylabel(\"Conductivity (S/m)\")\n",
    "plt.xlabel(\"Temperature (C)\")\n",
    "plt.tight_layout()\n",
    "plt.savefig('figs\\\\kmeans_'+fn+'.jpg')\n",
    "plt.show()\n",
    "           "
   ]
  },
  {
   "cell_type": "code",
   "execution_count": 16,
   "metadata": {},
   "outputs": [
    {
     "data": {
      "text/plain": [
       "tensor([[ 0.2414, -0.1995],\n",
       "        [-0.1326,  0.0771],\n",
       "        [-0.0206,  0.1173],\n",
       "        ...,\n",
       "        [-0.1429,  0.0554],\n",
       "        [-0.0482,  0.1064],\n",
       "        [ 0.0557,  0.1125]], dtype=torch.float64)"
      ]
     },
     "execution_count": 16,
     "metadata": {},
     "output_type": "execute_result"
    }
   ],
   "source": []
  },
  {
   "cell_type": "code",
   "execution_count": 73,
   "metadata": {},
   "outputs": [
    {
     "ename": "AttributeError",
     "evalue": "'list' object has no attribute 'savefig'",
     "output_type": "error",
     "traceback": [
      "\u001b[0;31m---------------------------------------------------------------------------\u001b[0m",
      "\u001b[0;31mAttributeError\u001b[0m                            Traceback (most recent call last)",
      "\u001b[0;32m<ipython-input-73-d71884a18349>\u001b[0m in \u001b[0;36m<module>\u001b[0;34m()\u001b[0m\n\u001b[1;32m      3\u001b[0m \u001b[0msav\u001b[0m \u001b[0;34m=\u001b[0m \u001b[0mfig\u001b[0m\u001b[0;34m.\u001b[0m\u001b[0mplot\u001b[0m\u001b[0;34m(\u001b[0m\u001b[0mdf\u001b[0m\u001b[0;34m[\u001b[0m\u001b[0;34m'Conductivity (S/m)'\u001b[0m\u001b[0;34m]\u001b[0m\u001b[0;34m[\u001b[0m\u001b[0mlogflag\u001b[0m\u001b[0;34m]\u001b[0m\u001b[0;34m,\u001b[0m\u001b[0mdf\u001b[0m\u001b[0;34m[\u001b[0m\u001b[0;34m'Temperature (C)'\u001b[0m\u001b[0;34m]\u001b[0m\u001b[0;34m[\u001b[0m\u001b[0mlogflag\u001b[0m\u001b[0;34m]\u001b[0m\u001b[0;34m,\u001b[0m\u001b[0;34m\"or\"\u001b[0m\u001b[0;34m)\u001b[0m\u001b[0;34m\u001b[0m\u001b[0;34m\u001b[0m\u001b[0m\n\u001b[1;32m      4\u001b[0m \u001b[0;31m#savv = sav.get_figure()\u001b[0m\u001b[0;34m\u001b[0m\u001b[0;34m\u001b[0m\u001b[0;34m\u001b[0m\u001b[0m\n\u001b[0;32m----> 5\u001b[0;31m \u001b[0msav\u001b[0m\u001b[0;34m.\u001b[0m\u001b[0msavefig\u001b[0m\u001b[0;34m(\u001b[0m\u001b[0;34m'/home/drew/onc/AGUFM2020_poster/code_working/TCcurve2.jpg'\u001b[0m\u001b[0;34m)\u001b[0m\u001b[0;34m\u001b[0m\u001b[0;34m\u001b[0m\u001b[0m\n\u001b[0m",
      "\u001b[0;31mAttributeError\u001b[0m: 'list' object has no attribute 'savefig'"
     ]
    },
    {
     "data": {
      "image/png": "[encoded data removed]",
      "text/plain": [
       "<Figure size 720x720 with 1 Axes>"
      ]
     },
     "metadata": {
      "needs_background": "light"
     },
     "output_type": "display_data"
    }
   ],
   "source": [
    "# cheating\n",
    "# define line to divide\n",
    "x1=3.13\n",
    "y1=8.6\n",
    "x2=3.19\n",
    "y2=9\n",
    "\n",
    "# plot it\n",
    "fig = df.plot.scatter(x='Conductivity (S/m)',y='Temperature (C)',figsize=(10,10))\n",
    "logflag = (df['Conductivity (S/m)']-x1)*(y2-y1) - (df['Temperature (C)']-y1)*(x2-x1) < 0\n",
    "sav = fig.plot(df['Conductivity (S/m)'][logflag],df['Temperature (C)'][logflag],\"or\")\n",
    "#savv = sav.get_figure()\n",
    "sav.savefig('/home/drew/onc/AGUFM2020_poster/code_working/TCcurve2.jpg')"
   ]
  },
  {
   "cell_type": "code",
   "execution_count": 55,
   "metadata": {},
   "outputs": [
    {
     "data": {
      "text/plain": [
       "0         True\n",
       "1         True\n",
       "2         True\n",
       "3         True\n",
       "4         True\n",
       "          ... \n",
       "439545    True\n",
       "439546    True\n",
       "439547    True\n",
       "439548    True\n",
       "439549    True\n",
       "Length: 439550, dtype: bool"
      ]
     },
     "execution_count": 55,
     "metadata": {},
     "output_type": "execute_result"
    }
   ],
   "source": [
    "logflag"
   ]
  },
  {
   "cell_type": "code",
   "execution_count": 44,
   "metadata": {},
   "outputs": [
    {
     "ename": "TypeError",
     "evalue": "strptime() argument 1 must be str, not Series",
     "output_type": "error",
     "traceback": [
      "\u001b[0;31m---------------------------------------------------------------------------\u001b[0m",
      "\u001b[0;31mTypeError\u001b[0m                                 Traceback (most recent call last)",
      "\u001b[0;32m<ipython-input-44-803d7bfc93f1>\u001b[0m in \u001b[0;36m<module>\u001b[0;34m()\u001b[0m\n\u001b[1;32m      1\u001b[0m \u001b[0mtype\u001b[0m\u001b[0;34m(\u001b[0m\u001b[0mdf\u001b[0m\u001b[0;34m[\u001b[0m\u001b[0;34m'Time UTC (yyyy-mm-ddThh:mm:ss.fffZ)'\u001b[0m\u001b[0;34m]\u001b[0m\u001b[0;34m)\u001b[0m\u001b[0;34m\u001b[0m\u001b[0;34m\u001b[0m\u001b[0m\n\u001b[0;32m----> 2\u001b[0;31m \u001b[0mdt\u001b[0m\u001b[0;34m.\u001b[0m\u001b[0mstrptime\u001b[0m\u001b[0;34m(\u001b[0m\u001b[0mdf\u001b[0m\u001b[0;34m[\u001b[0m\u001b[0;34m'Time UTC (yyyy-mm-ddThh:mm:ss.fffZ)'\u001b[0m\u001b[0;34m]\u001b[0m\u001b[0;34m,\u001b[0m\u001b[0;34m'%Y-%m-%dT%H:%M:%S.%fZ'\u001b[0m\u001b[0;34m)\u001b[0m\u001b[0;34m\u001b[0m\u001b[0;34m\u001b[0m\u001b[0m\n\u001b[0m",
      "\u001b[0;31mTypeError\u001b[0m: strptime() argument 1 must be str, not Series"
     ]
    }
   ],
   "source": [
    "type(df['Time UTC (yyyy-mm-ddThh:mm:ss.fffZ)'])\n",
    "dt.strptime(df['Time UTC (yyyy-mm-ddThh:mm:ss.fffZ)'],'%Y-%m-%dT%H:%M:%S.%fZ')"
   ]
  },
  {
   "cell_type": "code",
   "execution_count": 31,
   "metadata": {},
   "outputs": [
    {
     "ename": "TypeError",
     "evalue": "'Index' object is not callable",
     "output_type": "error",
     "traceback": [
      "\u001b[0;31m---------------------------------------------------------------------------\u001b[0m",
      "\u001b[0;31mTypeError\u001b[0m                                 Traceback (most recent call last)",
      "\u001b[0;32m<ipython-input-31-a00ba1b5cf93>\u001b[0m in \u001b[0;36m<module>\u001b[0;34m()\u001b[0m\n\u001b[0;32m----> 1\u001b[0;31m \u001b[0mdf\u001b[0m\u001b[0;34m.\u001b[0m\u001b[0mcolumns\u001b[0m\u001b[0;34m(\u001b[0m\u001b[0;34m'Time UTC (yyyy-mm-ddThh:mm:ss.fffZ)'\u001b[0m\u001b[0;34m)\u001b[0m\u001b[0;34m\u001b[0m\u001b[0;34m\u001b[0m\u001b[0m\n\u001b[0m\u001b[1;32m      2\u001b[0m \u001b[0mdatefmt\u001b[0m \u001b[0;34m=\u001b[0m \u001b[0mdt\u001b[0m\u001b[0;34m.\u001b[0m\u001b[0mstrptime\u001b[0m\u001b[0;34m(\u001b[0m\u001b[0mdf\u001b[0m\u001b[0;34m.\u001b[0m\u001b[0mcolumns\u001b[0m\u001b[0;34m(\u001b[0m\u001b[0;34m'Time UTC (yyyy-mm-ddThh:mm:ss.fffZ)'\u001b[0m\u001b[0;34m)\u001b[0m\u001b[0;34m,\u001b[0m\u001b[0;34m'%Y-%m-%dT%H:%M:%S.%fZ'\u001b[0m\u001b[0;34m)\u001b[0m\u001b[0;34m\u001b[0m\u001b[0;34m\u001b[0m\u001b[0m\n\u001b[1;32m      3\u001b[0m \u001b[0mfig2\u001b[0m\u001b[0;34m=\u001b[0m\u001b[0mdf\u001b[0m\u001b[0;34m.\u001b[0m\u001b[0mplot\u001b[0m\u001b[0;34m(\u001b[0m\u001b[0mx\u001b[0m\u001b[0;34m=\u001b[0m\u001b[0mdatefmt\u001b[0m\u001b[0;34m,\u001b[0m\u001b[0my\u001b[0m\u001b[0;34m=\u001b[0m\u001b[0;34m'Conductivity (S/m)'\u001b[0m\u001b[0;34m)\u001b[0m\u001b[0;34m\u001b[0m\u001b[0;34m\u001b[0m\u001b[0m\n\u001b[1;32m      4\u001b[0m \u001b[0;31m#.get_figure()\u001b[0m\u001b[0;34m\u001b[0m\u001b[0;34m\u001b[0m\u001b[0;34m\u001b[0m\u001b[0m\n\u001b[1;32m      5\u001b[0m \u001b[0;31m#fig.savefig('/home/drew/onc/AGUFM2020_poster/code_working/TCcurve1.jpg')\u001b[0m\u001b[0;34m\u001b[0m\u001b[0;34m\u001b[0m\u001b[0;34m\u001b[0m\u001b[0m\n",
      "\u001b[0;31mTypeError\u001b[0m: 'Index' object is not callable"
     ]
    }
   ],
   "source": [
    "datefmt = dt.strptime(df.columns('Time UTC (yyyy-mm-ddThh:mm:ss.fffZ)'),'%Y-%m-%dT%H:%M:%S.%fZ')\n",
    "fig2=df.plot(x=datefmt,y='Conductivity (S/m)')\n",
    "#.get_figure()\n",
    "#fig.savefig('/home/drew/onc/AGUFM2020_poster/code_working/TCcurve1.jpg')"
   ]
  },
  {
   "cell_type": "code",
   "execution_count": 28,
   "metadata": {},
   "outputs": [
    {
     "ename": "AttributeError",
     "evalue": "'DataFrame' object has no attribute 'dt'",
     "output_type": "error",
     "traceback": [
      "\u001b[0;31m---------------------------------------------------------------------------\u001b[0m",
      "\u001b[0;31mAttributeError\u001b[0m                            Traceback (most recent call last)",
      "\u001b[0;32m<ipython-input-28-8430c01ff0c9>\u001b[0m in \u001b[0;36m<module>\u001b[0;34m()\u001b[0m\n\u001b[0;32m----> 1\u001b[0;31m \u001b[0mdf\u001b[0m\u001b[0;34m.\u001b[0m\u001b[0mdt\u001b[0m\u001b[0;34m.\u001b[0m\u001b[0mstrptime\u001b[0m\u001b[0;34m\u001b[0m\u001b[0;34m\u001b[0m\u001b[0m\n\u001b[0m",
      "\u001b[0;32m/home/drew/mini37/lib/python3.7/site-packages/pandas/core/generic.py\u001b[0m in \u001b[0;36m__getattr__\u001b[0;34m(self, name)\u001b[0m\n\u001b[1;32m   5272\u001b[0m             \u001b[0;32mif\u001b[0m \u001b[0mself\u001b[0m\u001b[0;34m.\u001b[0m\u001b[0m_info_axis\u001b[0m\u001b[0;34m.\u001b[0m\u001b[0m_can_hold_identifiers_and_holds_name\u001b[0m\u001b[0;34m(\u001b[0m\u001b[0mname\u001b[0m\u001b[0;34m)\u001b[0m\u001b[0;34m:\u001b[0m\u001b[0;34m\u001b[0m\u001b[0;34m\u001b[0m\u001b[0m\n\u001b[1;32m   5273\u001b[0m                 \u001b[0;32mreturn\u001b[0m \u001b[0mself\u001b[0m\u001b[0;34m[\u001b[0m\u001b[0mname\u001b[0m\u001b[0;34m]\u001b[0m\u001b[0;34m\u001b[0m\u001b[0;34m\u001b[0m\u001b[0m\n\u001b[0;32m-> 5274\u001b[0;31m             \u001b[0;32mreturn\u001b[0m \u001b[0mobject\u001b[0m\u001b[0;34m.\u001b[0m\u001b[0m__getattribute__\u001b[0m\u001b[0;34m(\u001b[0m\u001b[0mself\u001b[0m\u001b[0;34m,\u001b[0m \u001b[0mname\u001b[0m\u001b[0;34m)\u001b[0m\u001b[0;34m\u001b[0m\u001b[0;34m\u001b[0m\u001b[0m\n\u001b[0m\u001b[1;32m   5275\u001b[0m \u001b[0;34m\u001b[0m\u001b[0m\n\u001b[1;32m   5276\u001b[0m     \u001b[0;32mdef\u001b[0m \u001b[0m__setattr__\u001b[0m\u001b[0;34m(\u001b[0m\u001b[0mself\u001b[0m\u001b[0;34m,\u001b[0m \u001b[0mname\u001b[0m\u001b[0;34m:\u001b[0m \u001b[0mstr\u001b[0m\u001b[0;34m,\u001b[0m \u001b[0mvalue\u001b[0m\u001b[0;34m)\u001b[0m \u001b[0;34m->\u001b[0m \u001b[0;32mNone\u001b[0m\u001b[0;34m:\u001b[0m\u001b[0;34m\u001b[0m\u001b[0;34m\u001b[0m\u001b[0m\n",
      "\u001b[0;31mAttributeError\u001b[0m: 'DataFrame' object has no attribute 'dt'"
     ]
    }
   ],
   "source": [
    "df.dt.strptime"
   ]
  },
  {
   "cell_type": "code",
   "execution_count": 25,
   "metadata": {},
   "outputs": [
    {
     "data": {
      "text/plain": [
       "datetime.datetime(2020, 1, 11, 23, 59, 55, 414000)"
      ]
     },
     "execution_count": 25,
     "metadata": {},
     "output_type": "execute_result"
    }
   ],
   "source": [
    "dt.strptime('2020-01-11T23:59:55.414Z','%Y-%m-%dT%H:%M:%S.%fZ')"
   ]
  },
  {
   "cell_type": "code",
   "execution_count": 27,
   "metadata": {},
   "outputs": [
    {
     "ename": "NameError",
     "evalue": "name 'datefmt' is not defined",
     "output_type": "error",
     "traceback": [
      "\u001b[0;31m---------------------------------------------------------------------------\u001b[0m",
      "\u001b[0;31mNameError\u001b[0m                                 Traceback (most recent call last)",
      "\u001b[0;32m<ipython-input-27-af316c83d7b8>\u001b[0m in \u001b[0;36m<module>\u001b[0;34m()\u001b[0m\n\u001b[0;32m----> 1\u001b[0;31m \u001b[0mdatefmt\u001b[0m\u001b[0;34m\u001b[0m\u001b[0;34m\u001b[0m\u001b[0m\n\u001b[0m",
      "\u001b[0;31mNameError\u001b[0m: name 'datefmt' is not defined"
     ]
    }
   ],
   "source": [
    "datefmt"
   ]
  },
  {
   "cell_type": "code",
   "execution_count": null,
   "metadata": {},
   "outputs": [],
   "source": []
  }
 ],
 "metadata": {
  "kernelspec": {
   "display_name": "Python 3 (ipykernel)",
   "language": "python",
   "name": "python3"
  },
  "language_info": {
   "codemirror_mode": {
    "name": "ipython",
    "version": 3
   },
   "file_extension": ".py",
   "mimetype": "text/x-python",
   "name": "python",
   "nbconvert_exporter": "python",
   "pygments_lexer": "ipython3",
   "version": "3.7.7"
  }
 },
 "nbformat": 4,
 "nbformat_minor": 4
}
