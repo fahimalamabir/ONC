{
 "cells": [
  {
   "cell_type": "code",
   "execution_count": null,
   "id": "318e6898",
   "metadata": {},
   "outputs": [],
   "source": [
    "import pandas as pd\n",
    "import xarray as xr\n",
    "import os\n",
    "\n",
    "import numpy as np\n",
    "import gsw\n",
    "import warnings\n",
    "import matplotlib.pyplot as plt\n",
    "from erddapy import ERDDAP\n",
    "\n",
    "# !pip install cmocean\n",
    "from netCDF4 import Dataset\n",
    "import matplotlib.dates as mdates\n",
    "\n",
    "import geopy.distance\n",
    "import gsw\n",
    "import matplotlib.ticker as mticker\n",
    "import cmocean\n",
    "warnings.filterwarnings(\"ignore\", category=DeprecationWarning) "
   ]
  },
  {
   "cell_type": "code",
   "execution_count": null,
   "id": "b4f4b3eb",
   "metadata": {},
   "outputs": [],
   "source": [
    "e = ERDDAP(server=\"https://gliders.ioos.us/erddap\")\n",
    "e.constraints = None\n",
    "e.protocol = \"tabledap\"\n",
    "e.dataset_id = \"ce_383-20220720T1508\"\n",
    "\n",
    "opendap_url = e.get_download_url(\n",
    "    response=\"opendap\",\n",
    ")\n",
    "\n",
    "print(opendap_url)"
   ]
  },
  {
   "cell_type": "code",
   "execution_count": null,
   "id": "0f4c28b5",
   "metadata": {},
   "outputs": [],
   "source": [
    "e.response = \"nc\"\n",
    "e.variables = [\"longitude\",\"depth\",\"latitude\",\"backscatter\", \"temperature\", \"salinity\",\"time\",\"dissolved_oxygen\",\"chlorophyll\"]\n",
    "\n",
    "df = e.to_pandas(\n",
    "    index_col=\"time (UTC)\",\n",
    "    parse_dates=True,\n",
    ").dropna()\n",
    "\n",
    "df.head()"
   ]
  },
  {
   "cell_type": "code",
   "execution_count": null,
   "id": "b046f108",
   "metadata": {},
   "outputs": [],
   "source": [
    "start = '2022-08-01 00:00:00+00:00'\n",
    "end = '2022-08-11 19:00:00+00:00'\n",
    "df = df.loc[start:end,:]\n",
    "df.head(3)"
   ]
  },
  {
   "cell_type": "code",
   "execution_count": null,
   "id": "14d22574",
   "metadata": {},
   "outputs": [],
   "source": [
    "fig, ax = plt.subplots(figsize=(17, 2))\n",
    "cs = ax.scatter(\n",
    "    df.index,\n",
    "    df[\"depth (m)\"],\n",
    "    s=15,\n",
    "    c=df[\"temperature (Celsius)\"],\n",
    "    marker=\"o\",\n",
    "    edgecolor=\"none\"\n",
    ")\n",
    "\n",
    "ax.invert_yaxis()\n",
    "ax.set_xlim(df.index[0], df.index[-1])\n",
    "xfmt = mdates.DateFormatter(\"%H:%Mh\\n%d-%b\")\n",
    "ax.xaxis.set_major_formatter(xfmt)\n",
    "\n",
    "cbar = fig.colorbar(cs, orientation=\"vertical\", extend=\"both\")\n",
    "cbar.ax.set_ylabel(\"Temperature ($^\\circ$C)\")\n",
    "ax.set_ylabel(\"Depth (m)\");"
   ]
  },
  {
   "cell_type": "code",
   "execution_count": null,
   "id": "c7569086",
   "metadata": {},
   "outputs": [],
   "source": [
    "fig, ax = plt.subplots()\n",
    "\n",
    "ax.plot(df.index, df[\"depth (m)\"]);\n",
    "ax.set_ylabel(\"Depth (m)\");\n",
    "ax.invert_yaxis()\n",
    "ax.set_xlim(df.index[0], df.index[-1])\n",
    "xfmt = mdates.DateFormatter(\"%H:%Mh\\n%d-%b\")\n",
    "ax.xaxis.set_major_formatter(xfmt)\n",
    "fig.autofmt_xdate()"
   ]
  },
  {
   "cell_type": "code",
   "execution_count": null,
   "id": "56fdf972",
   "metadata": {},
   "outputs": [],
   "source": [
    "df['distance']=df.apply(lambda row: geopy.distance.distance((47, -124.173),(row['latitude (degrees_north)'],row['longitude (degrees_east)'])).km, axis=1)"
   ]
  },
  {
   "cell_type": "code",
   "execution_count": null,
   "id": "3780202e",
   "metadata": {},
   "outputs": [],
   "source": [
    "df['distance']"
   ]
  },
  {
   "cell_type": "code",
   "execution_count": null,
   "id": "99e53a00",
   "metadata": {},
   "outputs": [],
   "source": [
    "# Plot the data - Distance on x-axis\n",
    "fig, (ax1,ax2,ax3) = plt.subplots(3, sharex=True, sharey=True)\n",
    "fig.set_size_inches(6.4,4.8)\n",
    "# fig.set_size_inches(8,8)\n",
    "fig.set_dpi(150)\n",
    "\n",
    "ms = 56 #marker size\n",
    "a1 = ax1.scatter(df.distance, df['depth (m)'], c=df['temperature (Celsius)'], marker=\".\", s=ms, cmap =cmocean.cm.haline)\n",
    "a2 = ax2.scatter(df.distance, df['depth (m)'], c=df['salinity (1)'], marker=\".\", s=ms, cmap =cmocean.cm.haline, vmin=32, vmax=34.2)\n",
    "a3 = ax3.scatter(df.distance, df['depth (m)'], c=df['dissolved_oxygen (umol kg-1)'], marker=\".\", s=ms, cmap =cmocean.cm.haline) #vmin=0, vmax=300\n",
    "\n",
    "cb1 = plt.colorbar(a1,ax=ax1, aspect=10)\n",
    "cb2 = plt.colorbar(a2,ax=ax2,extend='min', aspect=10)\n",
    "cb3 = plt.colorbar(a3,ax=ax3, aspect=10)\n",
    "cb1.set_label('Temperature (°C)',fontsize='x-small')\n",
    "cb2.set_label('Salinity (psu)',fontsize='x-small')\n",
    "cb3.set_label('Dissolved Oxygen (uM/kg)',fontsize='x-small')\n",
    "\n",
    "ax2.set_ylabel(\"Depth (m)\",fontsize='x-small')\n",
    "ax1.invert_yaxis()\n",
    "\n",
    "ax3.set_xlabel('Distance from lat/lon of coast at 47N latitude (glider line)',fontsize='x-small')\n",
    "ax1.set_xlim(min(df.distance),max(df.distance));\n",
    "ax1.invert_xaxis()\n",
    "\n",
    "ax1.set_title('Glider #320')\n",
    "\n",
    "ax1.tick_params(labelsize='xx-small')\n",
    "ax2.tick_params(labelsize='xx-small')\n",
    "ax3.tick_params(labelsize='xx-small')\n",
    "cb1.ax.tick_params(labelsize='xx-small')\n",
    "cb2.ax.tick_params(labelsize='xx-small')\n",
    "cb3.ax.tick_params(labelsize='xx-small')"
   ]
  },
  {
   "cell_type": "code",
   "execution_count": null,
   "id": "4fbd12eb",
   "metadata": {},
   "outputs": [],
   "source": [
    "plt.figure(figsize=(8,6))\n",
    "\n",
    "plt.plot(df['longitude (degrees_east)'], df['latitude (degrees_north)'], c='black')\n",
    "plt.scatter(df['longitude (degrees_east)'], df['latitude (degrees_north)'], c=df.index, cmap='RdYlBu')\n",
    "\n",
    "# Label Start/End Points\n",
    "plt.text(df['longitude (degrees_east)'].iloc[0], df['latitude (degrees_north)'].iloc[0], 'Start')\n",
    "plt.text(df['longitude (degrees_east)'].iloc[-1], df['latitude (degrees_north)'].iloc[-1], 'End')\n",
    "\n",
    "# Add a colorbar\n",
    "cbar = plt.colorbar();\n",
    "\n",
    "# Fix the colorbar ticks\n",
    "ticks_loc=cbar.ax.set_yticklabels(pd.to_datetime(cbar.get_ticks()).strftime(date_format='%Y-%m-%d'));\n",
    "ax3.xaxis.set_major_locator(mticker.FixedLocator(ticks_loc))"
   ]
  },
  {
   "cell_type": "code",
   "execution_count": null,
   "id": "845ece37",
   "metadata": {
    "scrolled": true
   },
   "outputs": [],
   "source": [
    "df['latitude (degrees_north)'].iloc[-1]"
   ]
  },
  {
   "cell_type": "code",
   "execution_count": null,
   "id": "2fd8d715",
   "metadata": {},
   "outputs": [],
   "source": [
    "# Plot the data - Distance on x-axis\n",
    "fig, (ax1,ax2,ax3) = plt.subplots(3, sharex=True, sharey=True)\n",
    "fig.set_size_inches(6.4,4.8)\n",
    "# fig.set_size_inches(8,8)\n",
    "fig.set_dpi(150)\n",
    "\n",
    "ms = 56 #marker size\n",
    "a1 = ax1.scatter(df.index, df['depth (m)'], c=df['temperature (Celsius)'], marker=\".\", s=ms, cmap =cmocean.cm.thermal)\n",
    "a2 = ax2.scatter(df.index, df['depth (m)'], c=df['salinity (1)'], marker=\".\", s=ms, cmap=cmocean.cm.thermal, vmin=32, vmax=34.2)\n",
    "a3 = ax3.scatter(df.index, df['depth (m)'], c=df['dissolved_oxygen (umol kg-1)'], marker=\".\", s=ms, cmap=cmocean.cm.thermal) #vmin=0, vmax=300\n",
    "\n",
    "\n",
    "cb1 = plt.colorbar(a1,ax=ax1, aspect=10)\n",
    "cb2 = plt.colorbar(a2,ax=ax2,extend='min', aspect=10)\n",
    "cb3 = plt.colorbar(a3,ax=ax3, aspect=10)\n",
    "cb1.set_label('Temperature (°C)',fontsize='x-small')\n",
    "cb2.set_label('Salinity (psu)',fontsize='x-small')\n",
    "cb3.set_label('Dissolved Oxygen (uM/kg)',fontsize='x-small')\n",
    "\n",
    "ax2.set_ylabel(\"Depth (m)\",fontsize='x-small')\n",
    "ax1.invert_yaxis()\n",
    "\n",
    "ax1.set_xlim(min(df.index),max(df.index));\n",
    "ax1.invert_xaxis()\n",
    "\n",
    "ax1.set_title('Glider #320')\n",
    "\n",
    "ax1.tick_params(labelsize='xx-small')\n",
    "ax2.tick_params(labelsize='xx-small')\n",
    "ax3.tick_params(labelsize='xx-small')\n",
    "cb1.ax.tick_params(labelsize='xx-small')\n",
    "cb2.ax.tick_params(labelsize='xx-small')\n",
    "cb3.ax.tick_params(labelsize='xx-small')\n",
    "ax1.xaxis.set_major_formatter(xfmt)\n",
    "fig.autofmt_xdate()"
   ]
  },
  {
   "cell_type": "code",
   "execution_count": null,
   "id": "a52c9e8b",
   "metadata": {},
   "outputs": [],
   "source": [
    "# Temperature Salinity Profile with Date\n",
    "fig,(ax1,ax2) = plt.subplots(1, 2, sharey=True)\n",
    "dx = ax1.scatter(df['temperature (Celsius)'],  df['depth (m)'], c=df.index, s=2)\n",
    "dx1 = ax2.scatter(df['salinity (1)'],  df['depth (m)'], c=df.index, s=2)\n",
    "ax1.invert_yaxis()\n",
    "\n",
    "ax1.set_xlabel('Temperature  (°C)')\n",
    "ax2.set_xlabel('Salinity (psu)')\n",
    "ax1.set_ylabel('Depth (m)');\n",
    "\n",
    "cb =fig.colorbar(dx1,ax=ax2)\n",
    "cb.ax.set_yticklabels(pd.to_datetime(cbar.get_ticks()).strftime(date_format='%Y-%m-%d'));"
   ]
  },
  {
   "cell_type": "code",
   "execution_count": null,
   "id": "46cab5b8",
   "metadata": {},
   "outputs": [],
   "source": [
    "smin = df['salinity (1)'].min() - (0.01* df['salinity (1)'].min())\n",
    "smax = df['salinity (1)'].max() + (0.01 * df['salinity (1)'].max())\n",
    "tmin = df['temperature (Celsius)'].min() - (0.1 * df['temperature (Celsius)'].max())\n",
    "tmax = df['temperature (Celsius)'].max() + (0.1 * df['temperature (Celsius)'].max())\n",
    "\n",
    "# Calculate the density lines\n",
    "x = int(round((smax-smin)/0.1+1,0))\n",
    "y = int(round((tmax-tmin)+1,0))"
   ]
  },
  {
   "cell_type": "code",
   "execution_count": null,
   "id": "bcf356f6",
   "metadata": {},
   "outputs": [],
   "source": [
    "# Create temp and salt vectors of appropiate dimensions\n",
    "ti = np.linspace(1,y-1,y)+tmin\n",
    "si = np.linspace(1,x-1,x)*0.1+smin"
   ]
  },
  {
   "cell_type": "code",
   "execution_count": null,
   "id": "3f9a9b92",
   "metadata": {},
   "outputs": [],
   "source": [
    "# Create empty grid of zeros\n",
    "dens = np.zeros((y,x))\n",
    "\n",
    "# Loop to fill in grid with densities\n",
    "for j in range(0,int(y)):\n",
    "    for i in range(0, int(x)):\n",
    "        dens[j,i]=float(gsw.rho(si[i],ti[j],0))\n",
    "        "
   ]
  },
  {
   "cell_type": "code",
   "execution_count": null,
   "id": "7d8403e8",
   "metadata": {},
   "outputs": [],
   "source": [
    "# Substract 1000 to convert to sigma-t\n",
    "dens = dens - 1000\n",
    "\n",
    "fig1 = plt.figure()\n",
    "ax1 = fig1.add_subplot(111)\n",
    "CS = plt.contour(si,ti,dens, linestyles='dashed', colors='k')\n",
    "plt.clabel(CS, fontsize=12, inline=1, fmt='%.1f') # Label every second level\n",
    " \n",
    "sc1 =ax1.scatter(df['salinity (1)'],df['temperature (Celsius)'], c=df['dissolved_oxygen (umol kg-1)'], s=2)\n",
    " \n",
    "ax1.set_xlabel('Salinity (psu)')\n",
    "ax1.set_ylabel('Temperature  (°C)')\n",
    "cb1 = plt.colorbar(sc1, ax=ax1, aspect=10, label='Dissolved Oxygen (uM/kg)')\n",
    "plt.show()"
   ]
  },
  {
   "cell_type": "code",
   "execution_count": null,
   "id": "c50d3b9b",
   "metadata": {},
   "outputs": [],
   "source": [
    "spice = np.zeros((y,x))\n",
    "# Loop to fill in grid with densities\n",
    "for j in range(0,int(y)):\n",
    "    for i in range(0, int(x)):\n",
    "        spice[j,i]=float(gsw.spiciness0(si[i],ti[j]))"
   ]
  },
  {
   "cell_type": "code",
   "execution_count": null,
   "id": "001d174f",
   "metadata": {},
   "outputs": [],
   "source": [
    "fig1 = plt.figure()\n",
    "ax1 = fig1.add_subplot(111)\n",
    "C1= plt.contour(si,ti,dens, linestyles='dashed', colors='k')\n",
    "C2 = plt.contour(si,ti,spice, linestyles='-', colors='red')\n",
    "plt.clabel(C1, fontsize=12, inline=1, fmt='%.1f') # Label every second level\n",
    "plt.clabel(C2, fontsize=12, inline=1, fmt='%.1f') # Label every second level\n",
    "\n",
    "sc1 =ax1.scatter(df['salinity (1)'],df['temperature (Celsius)'], c=df['dissolved_oxygen (umol kg-1)'], s=2)\n",
    " \n",
    "ax1.set_xlabel('Salinity (psu)')\n",
    "ax1.set_ylabel('Temperature  (°C)')\n",
    "cb1 = plt.colorbar(sc1, ax=ax1, aspect=10, label='Dissolved Oxygen (uM/kg)')\n",
    "plt.show()"
   ]
  },
  {
   "cell_type": "code",
   "execution_count": null,
   "id": "099195f4",
   "metadata": {},
   "outputs": [],
   "source": []
  }
 ],
 "metadata": {
  "kernelspec": {
   "display_name": "Python 3 (ipykernel)",
   "language": "python",
   "name": "python3"
  },
  "language_info": {
   "codemirror_mode": {
    "name": "ipython",
    "version": 3
   },
   "file_extension": ".py",
   "mimetype": "text/x-python",
   "name": "python",
   "nbconvert_exporter": "python",
   "pygments_lexer": "ipython3",
   "version": "3.10.5"
  }
 },
 "nbformat": 4,
 "nbformat_minor": 5
}
